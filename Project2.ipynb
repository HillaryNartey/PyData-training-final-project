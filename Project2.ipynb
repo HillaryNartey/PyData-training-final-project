{
  "nbformat": 4,
  "nbformat_minor": 0,
  "metadata": {
    "colab": {
      "name": "Project2.ipynb",
      "provenance": [],
      "authorship_tag": "ABX9TyOo699ZXbLeAMnsYslZxG9c",
      "include_colab_link": true
    },
    "kernelspec": {
      "name": "python3",
      "display_name": "Python 3"
    },
    "language_info": {
      "name": "python"
    }
  },
  "cells": [
    {
      "cell_type": "markdown",
      "metadata": {
        "id": "view-in-github",
        "colab_type": "text"
      },
      "source": [
        "<a href=\"https://colab.research.google.com/github/HillaryNartey/PyData-training-final-project/blob/main/Project2.ipynb\" target=\"_parent\"><img src=\"https://colab.research.google.com/assets/colab-badge.svg\" alt=\"Open In Colab\"/></a>"
      ]
    },
    {
      "cell_type": "code",
      "source": [
        "!pip install us"
      ],
      "metadata": {
        "colab": {
          "base_uri": "https://localhost:8080/"
        },
        "id": "dS0UnAXWRVTl",
        "outputId": "11dc61f7-a67a-4867-88e2-6d53d6efb11f"
      },
      "execution_count": 32,
      "outputs": [
        {
          "output_type": "stream",
          "name": "stdout",
          "text": [
            "Requirement already satisfied: us in /usr/local/lib/python3.7/dist-packages (2.0.2)\n",
            "Requirement already satisfied: jellyfish==0.6.1 in /usr/local/lib/python3.7/dist-packages (from us) (0.6.1)\n"
          ]
        }
      ]
    },
    {
      "cell_type": "code",
      "execution_count": 1,
      "metadata": {
        "colab": {
          "resources": {
            "http://localhost:8080/nbextensions/google.colab/files.js": {
              "data": "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",
              "ok": true,
              "headers": [
                [
                  "content-type",
                  "application/javascript"
                ]
              ],
              "status": 200,
              "status_text": ""
            }
          },
          "base_uri": "https://localhost:8080/",
          "height": 74
        },
        "id": "rXSIIhmWKCnj",
        "outputId": "61cd2b21-aec1-4a29-96f0-1cf2aa5a6bd1"
      },
      "outputs": [
        {
          "output_type": "display_data",
          "data": {
            "text/plain": [
              "<IPython.core.display.HTML object>"
            ],
            "text/html": [
              "\n",
              "     <input type=\"file\" id=\"files-3885b223-2ece-445e-a069-8f135f16d8ee\" name=\"files[]\" multiple disabled\n",
              "        style=\"border:none\" />\n",
              "     <output id=\"result-3885b223-2ece-445e-a069-8f135f16d8ee\">\n",
              "      Upload widget is only available when the cell has been executed in the\n",
              "      current browser session. Please rerun this cell to enable.\n",
              "      </output>\n",
              "      <script src=\"/nbextensions/google.colab/files.js\"></script> "
            ]
          },
          "metadata": {}
        },
        {
          "output_type": "stream",
          "name": "stdout",
          "text": [
            "Saving PA_singlestate_timeseries.xlsx to PA_singlestate_timeseries.xlsx\n"
          ]
        }
      ],
      "source": [
        "from google.colab import files\n",
        "uploaded = files.upload()"
      ]
    },
    {
      "cell_type": "code",
      "source": [
        "import pandas as pd \n",
        "import io\n",
        "import us\n",
        "import datetime as dt\n",
        "\n",
        "df2 = pd.read_excel(io.BytesIO(uploaded['PA_singlestate_timeseries.xlsx']))"
      ],
      "metadata": {
        "id": "x6akduLVLaEF"
      },
      "execution_count": 33,
      "outputs": []
    },
    {
      "cell_type": "code",
      "source": [
        "df2.head()"
      ],
      "metadata": {
        "colab": {
          "base_uri": "https://localhost:8080/",
          "height": 386
        },
        "id": "xPgE3P8BMGFV",
        "outputId": "ebd322cb-c723-4630-f569-6e7f0c951b56"
      },
      "execution_count": 3,
      "outputs": [
        {
          "output_type": "execute_result",
          "data": {
            "text/plain": [
              "        date country state  county  fips  lat  long          locationId  \\\n",
              "0 2020-03-02      US    PA     NaN    42  NaN   NaN  iso1:us#iso2:us-pa   \n",
              "1 2020-03-03      US    PA     NaN    42  NaN   NaN  iso1:us#iso2:us-pa   \n",
              "2 2020-03-04      US    PA     NaN    42  NaN   NaN  iso1:us#iso2:us-pa   \n",
              "3 2020-03-05      US    PA     NaN    42  NaN   NaN  iso1:us#iso2:us-pa   \n",
              "4 2020-03-06      US    PA     NaN    42  NaN   NaN  iso1:us#iso2:us-pa   \n",
              "\n",
              "   actuals.cases  actuals.deaths  ...  metrics.infectionRate  \\\n",
              "0            NaN             NaN  ...                    NaN   \n",
              "1            NaN             NaN  ...                    NaN   \n",
              "2            NaN             NaN  ...                    NaN   \n",
              "3            NaN             NaN  ...                    NaN   \n",
              "4            2.0             0.0  ...                    NaN   \n",
              "\n",
              "   metrics.infectionRateCI90 metrics.icuHeadroomRatio  \\\n",
              "0                        NaN                      NaN   \n",
              "1                        NaN                      NaN   \n",
              "2                        NaN                      NaN   \n",
              "3                        NaN                      NaN   \n",
              "4                        NaN                      NaN   \n",
              "\n",
              "   metrics.icuHeadroomDetails  metrics.icuCapacityRatio  riskLevels.overall  \\\n",
              "0                         NaN                       NaN                   0   \n",
              "1                         NaN                       NaN                   0   \n",
              "2                         NaN                       NaN                   0   \n",
              "3                         NaN                       NaN                   0   \n",
              "4                         NaN                       NaN                   0   \n",
              "\n",
              "   metrics.vaccinationsInitiatedRatio  metrics.vaccinationsCompletedRatio  \\\n",
              "0                                 NaN                                 NaN   \n",
              "1                                 NaN                                 NaN   \n",
              "2                                 NaN                                 NaN   \n",
              "3                                 NaN                                 NaN   \n",
              "4                                 NaN                                 NaN   \n",
              "\n",
              "   actuals.newDeaths actuals.vaccinesAdministered  \n",
              "0                NaN                          NaN  \n",
              "1                NaN                          NaN  \n",
              "2                NaN                          NaN  \n",
              "3                NaN                          NaN  \n",
              "4                NaN                          NaN  \n",
              "\n",
              "[5 rows x 39 columns]"
            ],
            "text/html": [
              "\n",
              "  <div id=\"df-596e035e-d22d-4eac-817f-ab4ac7788a29\">\n",
              "    <div class=\"colab-df-container\">\n",
              "      <div>\n",
              "<style scoped>\n",
              "    .dataframe tbody tr th:only-of-type {\n",
              "        vertical-align: middle;\n",
              "    }\n",
              "\n",
              "    .dataframe tbody tr th {\n",
              "        vertical-align: top;\n",
              "    }\n",
              "\n",
              "    .dataframe thead th {\n",
              "        text-align: right;\n",
              "    }\n",
              "</style>\n",
              "<table border=\"1\" class=\"dataframe\">\n",
              "  <thead>\n",
              "    <tr style=\"text-align: right;\">\n",
              "      <th></th>\n",
              "      <th>date</th>\n",
              "      <th>country</th>\n",
              "      <th>state</th>\n",
              "      <th>county</th>\n",
              "      <th>fips</th>\n",
              "      <th>lat</th>\n",
              "      <th>long</th>\n",
              "      <th>locationId</th>\n",
              "      <th>actuals.cases</th>\n",
              "      <th>actuals.deaths</th>\n",
              "      <th>...</th>\n",
              "      <th>metrics.infectionRate</th>\n",
              "      <th>metrics.infectionRateCI90</th>\n",
              "      <th>metrics.icuHeadroomRatio</th>\n",
              "      <th>metrics.icuHeadroomDetails</th>\n",
              "      <th>metrics.icuCapacityRatio</th>\n",
              "      <th>riskLevels.overall</th>\n",
              "      <th>metrics.vaccinationsInitiatedRatio</th>\n",
              "      <th>metrics.vaccinationsCompletedRatio</th>\n",
              "      <th>actuals.newDeaths</th>\n",
              "      <th>actuals.vaccinesAdministered</th>\n",
              "    </tr>\n",
              "  </thead>\n",
              "  <tbody>\n",
              "    <tr>\n",
              "      <th>0</th>\n",
              "      <td>2020-03-02</td>\n",
              "      <td>US</td>\n",
              "      <td>PA</td>\n",
              "      <td>NaN</td>\n",
              "      <td>42</td>\n",
              "      <td>NaN</td>\n",
              "      <td>NaN</td>\n",
              "      <td>iso1:us#iso2:us-pa</td>\n",
              "      <td>NaN</td>\n",
              "      <td>NaN</td>\n",
              "      <td>...</td>\n",
              "      <td>NaN</td>\n",
              "      <td>NaN</td>\n",
              "      <td>NaN</td>\n",
              "      <td>NaN</td>\n",
              "      <td>NaN</td>\n",
              "      <td>0</td>\n",
              "      <td>NaN</td>\n",
              "      <td>NaN</td>\n",
              "      <td>NaN</td>\n",
              "      <td>NaN</td>\n",
              "    </tr>\n",
              "    <tr>\n",
              "      <th>1</th>\n",
              "      <td>2020-03-03</td>\n",
              "      <td>US</td>\n",
              "      <td>PA</td>\n",
              "      <td>NaN</td>\n",
              "      <td>42</td>\n",
              "      <td>NaN</td>\n",
              "      <td>NaN</td>\n",
              "      <td>iso1:us#iso2:us-pa</td>\n",
              "      <td>NaN</td>\n",
              "      <td>NaN</td>\n",
              "      <td>...</td>\n",
              "      <td>NaN</td>\n",
              "      <td>NaN</td>\n",
              "      <td>NaN</td>\n",
              "      <td>NaN</td>\n",
              "      <td>NaN</td>\n",
              "      <td>0</td>\n",
              "      <td>NaN</td>\n",
              "      <td>NaN</td>\n",
              "      <td>NaN</td>\n",
              "      <td>NaN</td>\n",
              "    </tr>\n",
              "    <tr>\n",
              "      <th>2</th>\n",
              "      <td>2020-03-04</td>\n",
              "      <td>US</td>\n",
              "      <td>PA</td>\n",
              "      <td>NaN</td>\n",
              "      <td>42</td>\n",
              "      <td>NaN</td>\n",
              "      <td>NaN</td>\n",
              "      <td>iso1:us#iso2:us-pa</td>\n",
              "      <td>NaN</td>\n",
              "      <td>NaN</td>\n",
              "      <td>...</td>\n",
              "      <td>NaN</td>\n",
              "      <td>NaN</td>\n",
              "      <td>NaN</td>\n",
              "      <td>NaN</td>\n",
              "      <td>NaN</td>\n",
              "      <td>0</td>\n",
              "      <td>NaN</td>\n",
              "      <td>NaN</td>\n",
              "      <td>NaN</td>\n",
              "      <td>NaN</td>\n",
              "    </tr>\n",
              "    <tr>\n",
              "      <th>3</th>\n",
              "      <td>2020-03-05</td>\n",
              "      <td>US</td>\n",
              "      <td>PA</td>\n",
              "      <td>NaN</td>\n",
              "      <td>42</td>\n",
              "      <td>NaN</td>\n",
              "      <td>NaN</td>\n",
              "      <td>iso1:us#iso2:us-pa</td>\n",
              "      <td>NaN</td>\n",
              "      <td>NaN</td>\n",
              "      <td>...</td>\n",
              "      <td>NaN</td>\n",
              "      <td>NaN</td>\n",
              "      <td>NaN</td>\n",
              "      <td>NaN</td>\n",
              "      <td>NaN</td>\n",
              "      <td>0</td>\n",
              "      <td>NaN</td>\n",
              "      <td>NaN</td>\n",
              "      <td>NaN</td>\n",
              "      <td>NaN</td>\n",
              "    </tr>\n",
              "    <tr>\n",
              "      <th>4</th>\n",
              "      <td>2020-03-06</td>\n",
              "      <td>US</td>\n",
              "      <td>PA</td>\n",
              "      <td>NaN</td>\n",
              "      <td>42</td>\n",
              "      <td>NaN</td>\n",
              "      <td>NaN</td>\n",
              "      <td>iso1:us#iso2:us-pa</td>\n",
              "      <td>2.0</td>\n",
              "      <td>0.0</td>\n",
              "      <td>...</td>\n",
              "      <td>NaN</td>\n",
              "      <td>NaN</td>\n",
              "      <td>NaN</td>\n",
              "      <td>NaN</td>\n",
              "      <td>NaN</td>\n",
              "      <td>0</td>\n",
              "      <td>NaN</td>\n",
              "      <td>NaN</td>\n",
              "      <td>NaN</td>\n",
              "      <td>NaN</td>\n",
              "    </tr>\n",
              "  </tbody>\n",
              "</table>\n",
              "<p>5 rows × 39 columns</p>\n",
              "</div>\n",
              "      <button class=\"colab-df-convert\" onclick=\"convertToInteractive('df-596e035e-d22d-4eac-817f-ab4ac7788a29')\"\n",
              "              title=\"Convert this dataframe to an interactive table.\"\n",
              "              style=\"display:none;\">\n",
              "        \n",
              "  <svg xmlns=\"http://www.w3.org/2000/svg\" height=\"24px\"viewBox=\"0 0 24 24\"\n",
              "       width=\"24px\">\n",
              "    <path d=\"M0 0h24v24H0V0z\" fill=\"none\"/>\n",
              "    <path d=\"M18.56 5.44l.94 2.06.94-2.06 2.06-.94-2.06-.94-.94-2.06-.94 2.06-2.06.94zm-11 1L8.5 8.5l.94-2.06 2.06-.94-2.06-.94L8.5 2.5l-.94 2.06-2.06.94zm10 10l.94 2.06.94-2.06 2.06-.94-2.06-.94-.94-2.06-.94 2.06-2.06.94z\"/><path d=\"M17.41 7.96l-1.37-1.37c-.4-.4-.92-.59-1.43-.59-.52 0-1.04.2-1.43.59L10.3 9.45l-7.72 7.72c-.78.78-.78 2.05 0 2.83L4 21.41c.39.39.9.59 1.41.59.51 0 1.02-.2 1.41-.59l7.78-7.78 2.81-2.81c.8-.78.8-2.07 0-2.86zM5.41 20L4 18.59l7.72-7.72 1.47 1.35L5.41 20z\"/>\n",
              "  </svg>\n",
              "      </button>\n",
              "      \n",
              "  <style>\n",
              "    .colab-df-container {\n",
              "      display:flex;\n",
              "      flex-wrap:wrap;\n",
              "      gap: 12px;\n",
              "    }\n",
              "\n",
              "    .colab-df-convert {\n",
              "      background-color: #E8F0FE;\n",
              "      border: none;\n",
              "      border-radius: 50%;\n",
              "      cursor: pointer;\n",
              "      display: none;\n",
              "      fill: #1967D2;\n",
              "      height: 32px;\n",
              "      padding: 0 0 0 0;\n",
              "      width: 32px;\n",
              "    }\n",
              "\n",
              "    .colab-df-convert:hover {\n",
              "      background-color: #E2EBFA;\n",
              "      box-shadow: 0px 1px 2px rgba(60, 64, 67, 0.3), 0px 1px 3px 1px rgba(60, 64, 67, 0.15);\n",
              "      fill: #174EA6;\n",
              "    }\n",
              "\n",
              "    [theme=dark] .colab-df-convert {\n",
              "      background-color: #3B4455;\n",
              "      fill: #D2E3FC;\n",
              "    }\n",
              "\n",
              "    [theme=dark] .colab-df-convert:hover {\n",
              "      background-color: #434B5C;\n",
              "      box-shadow: 0px 1px 3px 1px rgba(0, 0, 0, 0.15);\n",
              "      filter: drop-shadow(0px 1px 2px rgba(0, 0, 0, 0.3));\n",
              "      fill: #FFFFFF;\n",
              "    }\n",
              "  </style>\n",
              "\n",
              "      <script>\n",
              "        const buttonEl =\n",
              "          document.querySelector('#df-596e035e-d22d-4eac-817f-ab4ac7788a29 button.colab-df-convert');\n",
              "        buttonEl.style.display =\n",
              "          google.colab.kernel.accessAllowed ? 'block' : 'none';\n",
              "\n",
              "        async function convertToInteractive(key) {\n",
              "          const element = document.querySelector('#df-596e035e-d22d-4eac-817f-ab4ac7788a29');\n",
              "          const dataTable =\n",
              "            await google.colab.kernel.invokeFunction('convertToInteractive',\n",
              "                                                     [key], {});\n",
              "          if (!dataTable) return;\n",
              "\n",
              "          const docLinkHtml = 'Like what you see? Visit the ' +\n",
              "            '<a target=\"_blank\" href=https://colab.research.google.com/notebooks/data_table.ipynb>data table notebook</a>'\n",
              "            + ' to learn more about interactive tables.';\n",
              "          element.innerHTML = '';\n",
              "          dataTable['output_type'] = 'display_data';\n",
              "          await google.colab.output.renderOutput(dataTable, element);\n",
              "          const docLink = document.createElement('div');\n",
              "          docLink.innerHTML = docLinkHtml;\n",
              "          element.appendChild(docLink);\n",
              "        }\n",
              "      </script>\n",
              "    </div>\n",
              "  </div>\n",
              "  "
            ]
          },
          "metadata": {},
          "execution_count": 3
        }
      ]
    },
    {
      "cell_type": "code",
      "source": [
        "len(df2) #lenght of the dataset"
      ],
      "metadata": {
        "colab": {
          "base_uri": "https://localhost:8080/"
        },
        "id": "XpWWLfj0ML2g",
        "outputId": "1bec42a4-f38b-4a12-db8d-4377c5c4a8da"
      },
      "execution_count": 4,
      "outputs": [
        {
          "output_type": "execute_result",
          "data": {
            "text/plain": [
              "501"
            ]
          },
          "metadata": {},
          "execution_count": 4
        }
      ]
    },
    {
      "cell_type": "code",
      "source": [
        "df2.shape"
      ],
      "metadata": {
        "colab": {
          "base_uri": "https://localhost:8080/"
        },
        "id": "LCTGVKHIMXme",
        "outputId": "f5e96ee3-8400-430d-92bc-04a4af73a8aa"
      },
      "execution_count": 5,
      "outputs": [
        {
          "output_type": "execute_result",
          "data": {
            "text/plain": [
              "(501, 39)"
            ]
          },
          "metadata": {},
          "execution_count": 5
        }
      ]
    },
    {
      "cell_type": "code",
      "source": [
        "df2.tail()"
      ],
      "metadata": {
        "colab": {
          "base_uri": "https://localhost:8080/",
          "height": 386
        },
        "id": "6fmn6EULMh6I",
        "outputId": "aa7db385-0a95-4c17-f612-8c666208fab0"
      },
      "execution_count": 6,
      "outputs": [
        {
          "output_type": "execute_result",
          "data": {
            "text/plain": [
              "          date country state  county  fips  lat  long          locationId  \\\n",
              "496 2021-06-21      US    PA     NaN    42  NaN   NaN  iso1:us#iso2:us-pa   \n",
              "497 2021-06-22      US    PA     NaN    42  NaN   NaN  iso1:us#iso2:us-pa   \n",
              "498 2021-06-23      US    PA     NaN    42  NaN   NaN  iso1:us#iso2:us-pa   \n",
              "499 2021-06-24      US    PA     NaN    42  NaN   NaN  iso1:us#iso2:us-pa   \n",
              "500 2021-06-25      US    PA     NaN    42  NaN   NaN  iso1:us#iso2:us-pa   \n",
              "\n",
              "     actuals.cases  actuals.deaths  ...  metrics.infectionRate  \\\n",
              "496      1215116.0         27623.0  ...                   0.68   \n",
              "497      1215239.0         27655.0  ...                   0.68   \n",
              "498      1215374.0         27662.0  ...                   0.67   \n",
              "499      1215735.0         27675.0  ...                   0.67   \n",
              "500            NaN             NaN  ...                    NaN   \n",
              "\n",
              "     metrics.infectionRateCI90 metrics.icuHeadroomRatio  \\\n",
              "496                       0.12                      NaN   \n",
              "497                       0.14                      NaN   \n",
              "498                       0.16                      NaN   \n",
              "499                       0.18                      NaN   \n",
              "500                        NaN                      NaN   \n",
              "\n",
              "     metrics.icuHeadroomDetails  metrics.icuCapacityRatio  riskLevels.overall  \\\n",
              "496                         NaN                       NaN                   1   \n",
              "497                         NaN                       NaN                   1   \n",
              "498                         NaN                       NaN                   1   \n",
              "499                         NaN                       NaN                   1   \n",
              "500                         NaN                       NaN                   1   \n",
              "\n",
              "     metrics.vaccinationsInitiatedRatio  metrics.vaccinationsCompletedRatio  \\\n",
              "496                               0.619                               0.485   \n",
              "497                               0.620                               0.486   \n",
              "498                               0.621                               0.487   \n",
              "499                               0.622                               0.489   \n",
              "500                                 NaN                                 NaN   \n",
              "\n",
              "     actuals.newDeaths actuals.vaccinesAdministered  \n",
              "496                2.0                   13631788.0  \n",
              "497               32.0                   13651077.0  \n",
              "498                7.0                   13679110.0  \n",
              "499               13.0                   13715484.0  \n",
              "500                NaN                          NaN  \n",
              "\n",
              "[5 rows x 39 columns]"
            ],
            "text/html": [
              "\n",
              "  <div id=\"df-bd3e3d49-2699-47ae-bedb-f95aa20eb4e9\">\n",
              "    <div class=\"colab-df-container\">\n",
              "      <div>\n",
              "<style scoped>\n",
              "    .dataframe tbody tr th:only-of-type {\n",
              "        vertical-align: middle;\n",
              "    }\n",
              "\n",
              "    .dataframe tbody tr th {\n",
              "        vertical-align: top;\n",
              "    }\n",
              "\n",
              "    .dataframe thead th {\n",
              "        text-align: right;\n",
              "    }\n",
              "</style>\n",
              "<table border=\"1\" class=\"dataframe\">\n",
              "  <thead>\n",
              "    <tr style=\"text-align: right;\">\n",
              "      <th></th>\n",
              "      <th>date</th>\n",
              "      <th>country</th>\n",
              "      <th>state</th>\n",
              "      <th>county</th>\n",
              "      <th>fips</th>\n",
              "      <th>lat</th>\n",
              "      <th>long</th>\n",
              "      <th>locationId</th>\n",
              "      <th>actuals.cases</th>\n",
              "      <th>actuals.deaths</th>\n",
              "      <th>...</th>\n",
              "      <th>metrics.infectionRate</th>\n",
              "      <th>metrics.infectionRateCI90</th>\n",
              "      <th>metrics.icuHeadroomRatio</th>\n",
              "      <th>metrics.icuHeadroomDetails</th>\n",
              "      <th>metrics.icuCapacityRatio</th>\n",
              "      <th>riskLevels.overall</th>\n",
              "      <th>metrics.vaccinationsInitiatedRatio</th>\n",
              "      <th>metrics.vaccinationsCompletedRatio</th>\n",
              "      <th>actuals.newDeaths</th>\n",
              "      <th>actuals.vaccinesAdministered</th>\n",
              "    </tr>\n",
              "  </thead>\n",
              "  <tbody>\n",
              "    <tr>\n",
              "      <th>496</th>\n",
              "      <td>2021-06-21</td>\n",
              "      <td>US</td>\n",
              "      <td>PA</td>\n",
              "      <td>NaN</td>\n",
              "      <td>42</td>\n",
              "      <td>NaN</td>\n",
              "      <td>NaN</td>\n",
              "      <td>iso1:us#iso2:us-pa</td>\n",
              "      <td>1215116.0</td>\n",
              "      <td>27623.0</td>\n",
              "      <td>...</td>\n",
              "      <td>0.68</td>\n",
              "      <td>0.12</td>\n",
              "      <td>NaN</td>\n",
              "      <td>NaN</td>\n",
              "      <td>NaN</td>\n",
              "      <td>1</td>\n",
              "      <td>0.619</td>\n",
              "      <td>0.485</td>\n",
              "      <td>2.0</td>\n",
              "      <td>13631788.0</td>\n",
              "    </tr>\n",
              "    <tr>\n",
              "      <th>497</th>\n",
              "      <td>2021-06-22</td>\n",
              "      <td>US</td>\n",
              "      <td>PA</td>\n",
              "      <td>NaN</td>\n",
              "      <td>42</td>\n",
              "      <td>NaN</td>\n",
              "      <td>NaN</td>\n",
              "      <td>iso1:us#iso2:us-pa</td>\n",
              "      <td>1215239.0</td>\n",
              "      <td>27655.0</td>\n",
              "      <td>...</td>\n",
              "      <td>0.68</td>\n",
              "      <td>0.14</td>\n",
              "      <td>NaN</td>\n",
              "      <td>NaN</td>\n",
              "      <td>NaN</td>\n",
              "      <td>1</td>\n",
              "      <td>0.620</td>\n",
              "      <td>0.486</td>\n",
              "      <td>32.0</td>\n",
              "      <td>13651077.0</td>\n",
              "    </tr>\n",
              "    <tr>\n",
              "      <th>498</th>\n",
              "      <td>2021-06-23</td>\n",
              "      <td>US</td>\n",
              "      <td>PA</td>\n",
              "      <td>NaN</td>\n",
              "      <td>42</td>\n",
              "      <td>NaN</td>\n",
              "      <td>NaN</td>\n",
              "      <td>iso1:us#iso2:us-pa</td>\n",
              "      <td>1215374.0</td>\n",
              "      <td>27662.0</td>\n",
              "      <td>...</td>\n",
              "      <td>0.67</td>\n",
              "      <td>0.16</td>\n",
              "      <td>NaN</td>\n",
              "      <td>NaN</td>\n",
              "      <td>NaN</td>\n",
              "      <td>1</td>\n",
              "      <td>0.621</td>\n",
              "      <td>0.487</td>\n",
              "      <td>7.0</td>\n",
              "      <td>13679110.0</td>\n",
              "    </tr>\n",
              "    <tr>\n",
              "      <th>499</th>\n",
              "      <td>2021-06-24</td>\n",
              "      <td>US</td>\n",
              "      <td>PA</td>\n",
              "      <td>NaN</td>\n",
              "      <td>42</td>\n",
              "      <td>NaN</td>\n",
              "      <td>NaN</td>\n",
              "      <td>iso1:us#iso2:us-pa</td>\n",
              "      <td>1215735.0</td>\n",
              "      <td>27675.0</td>\n",
              "      <td>...</td>\n",
              "      <td>0.67</td>\n",
              "      <td>0.18</td>\n",
              "      <td>NaN</td>\n",
              "      <td>NaN</td>\n",
              "      <td>NaN</td>\n",
              "      <td>1</td>\n",
              "      <td>0.622</td>\n",
              "      <td>0.489</td>\n",
              "      <td>13.0</td>\n",
              "      <td>13715484.0</td>\n",
              "    </tr>\n",
              "    <tr>\n",
              "      <th>500</th>\n",
              "      <td>2021-06-25</td>\n",
              "      <td>US</td>\n",
              "      <td>PA</td>\n",
              "      <td>NaN</td>\n",
              "      <td>42</td>\n",
              "      <td>NaN</td>\n",
              "      <td>NaN</td>\n",
              "      <td>iso1:us#iso2:us-pa</td>\n",
              "      <td>NaN</td>\n",
              "      <td>NaN</td>\n",
              "      <td>...</td>\n",
              "      <td>NaN</td>\n",
              "      <td>NaN</td>\n",
              "      <td>NaN</td>\n",
              "      <td>NaN</td>\n",
              "      <td>NaN</td>\n",
              "      <td>1</td>\n",
              "      <td>NaN</td>\n",
              "      <td>NaN</td>\n",
              "      <td>NaN</td>\n",
              "      <td>NaN</td>\n",
              "    </tr>\n",
              "  </tbody>\n",
              "</table>\n",
              "<p>5 rows × 39 columns</p>\n",
              "</div>\n",
              "      <button class=\"colab-df-convert\" onclick=\"convertToInteractive('df-bd3e3d49-2699-47ae-bedb-f95aa20eb4e9')\"\n",
              "              title=\"Convert this dataframe to an interactive table.\"\n",
              "              style=\"display:none;\">\n",
              "        \n",
              "  <svg xmlns=\"http://www.w3.org/2000/svg\" height=\"24px\"viewBox=\"0 0 24 24\"\n",
              "       width=\"24px\">\n",
              "    <path d=\"M0 0h24v24H0V0z\" fill=\"none\"/>\n",
              "    <path d=\"M18.56 5.44l.94 2.06.94-2.06 2.06-.94-2.06-.94-.94-2.06-.94 2.06-2.06.94zm-11 1L8.5 8.5l.94-2.06 2.06-.94-2.06-.94L8.5 2.5l-.94 2.06-2.06.94zm10 10l.94 2.06.94-2.06 2.06-.94-2.06-.94-.94-2.06-.94 2.06-2.06.94z\"/><path d=\"M17.41 7.96l-1.37-1.37c-.4-.4-.92-.59-1.43-.59-.52 0-1.04.2-1.43.59L10.3 9.45l-7.72 7.72c-.78.78-.78 2.05 0 2.83L4 21.41c.39.39.9.59 1.41.59.51 0 1.02-.2 1.41-.59l7.78-7.78 2.81-2.81c.8-.78.8-2.07 0-2.86zM5.41 20L4 18.59l7.72-7.72 1.47 1.35L5.41 20z\"/>\n",
              "  </svg>\n",
              "      </button>\n",
              "      \n",
              "  <style>\n",
              "    .colab-df-container {\n",
              "      display:flex;\n",
              "      flex-wrap:wrap;\n",
              "      gap: 12px;\n",
              "    }\n",
              "\n",
              "    .colab-df-convert {\n",
              "      background-color: #E8F0FE;\n",
              "      border: none;\n",
              "      border-radius: 50%;\n",
              "      cursor: pointer;\n",
              "      display: none;\n",
              "      fill: #1967D2;\n",
              "      height: 32px;\n",
              "      padding: 0 0 0 0;\n",
              "      width: 32px;\n",
              "    }\n",
              "\n",
              "    .colab-df-convert:hover {\n",
              "      background-color: #E2EBFA;\n",
              "      box-shadow: 0px 1px 2px rgba(60, 64, 67, 0.3), 0px 1px 3px 1px rgba(60, 64, 67, 0.15);\n",
              "      fill: #174EA6;\n",
              "    }\n",
              "\n",
              "    [theme=dark] .colab-df-convert {\n",
              "      background-color: #3B4455;\n",
              "      fill: #D2E3FC;\n",
              "    }\n",
              "\n",
              "    [theme=dark] .colab-df-convert:hover {\n",
              "      background-color: #434B5C;\n",
              "      box-shadow: 0px 1px 3px 1px rgba(0, 0, 0, 0.15);\n",
              "      filter: drop-shadow(0px 1px 2px rgba(0, 0, 0, 0.3));\n",
              "      fill: #FFFFFF;\n",
              "    }\n",
              "  </style>\n",
              "\n",
              "      <script>\n",
              "        const buttonEl =\n",
              "          document.querySelector('#df-bd3e3d49-2699-47ae-bedb-f95aa20eb4e9 button.colab-df-convert');\n",
              "        buttonEl.style.display =\n",
              "          google.colab.kernel.accessAllowed ? 'block' : 'none';\n",
              "\n",
              "        async function convertToInteractive(key) {\n",
              "          const element = document.querySelector('#df-bd3e3d49-2699-47ae-bedb-f95aa20eb4e9');\n",
              "          const dataTable =\n",
              "            await google.colab.kernel.invokeFunction('convertToInteractive',\n",
              "                                                     [key], {});\n",
              "          if (!dataTable) return;\n",
              "\n",
              "          const docLinkHtml = 'Like what you see? Visit the ' +\n",
              "            '<a target=\"_blank\" href=https://colab.research.google.com/notebooks/data_table.ipynb>data table notebook</a>'\n",
              "            + ' to learn more about interactive tables.';\n",
              "          element.innerHTML = '';\n",
              "          dataTable['output_type'] = 'display_data';\n",
              "          await google.colab.output.renderOutput(dataTable, element);\n",
              "          const docLink = document.createElement('div');\n",
              "          docLink.innerHTML = docLinkHtml;\n",
              "          element.appendChild(docLink);\n",
              "        }\n",
              "      </script>\n",
              "    </div>\n",
              "  </div>\n",
              "  "
            ]
          },
          "metadata": {},
          "execution_count": 6
        }
      ]
    },
    {
      "cell_type": "code",
      "source": [
        "df2.info()"
      ],
      "metadata": {
        "colab": {
          "base_uri": "https://localhost:8080/"
        },
        "id": "IQKiolr3Mrmt",
        "outputId": "2ae8d1e8-cfc7-426d-9a07-c5d6cabfafc3"
      },
      "execution_count": 7,
      "outputs": [
        {
          "output_type": "stream",
          "name": "stdout",
          "text": [
            "<class 'pandas.core.frame.DataFrame'>\n",
            "RangeIndex: 501 entries, 0 to 500\n",
            "Data columns (total 39 columns):\n",
            " #   Column                                  Non-Null Count  Dtype         \n",
            "---  ------                                  --------------  -----         \n",
            " 0   date                                    501 non-null    datetime64[ns]\n",
            " 1   country                                 501 non-null    object        \n",
            " 2   state                                   501 non-null    object        \n",
            " 3   county                                  0 non-null      float64       \n",
            " 4   fips                                    501 non-null    int64         \n",
            " 5   lat                                     0 non-null      float64       \n",
            " 6   long                                    0 non-null      float64       \n",
            " 7   locationId                              501 non-null    object        \n",
            " 8   actuals.cases                           492 non-null    float64       \n",
            " 9   actuals.deaths                          492 non-null    float64       \n",
            " 10  actuals.positiveTests                   496 non-null    float64       \n",
            " 11  actuals.negativeTests                   498 non-null    float64       \n",
            " 12  actuals.contactTracers                  501 non-null    object        \n",
            " 13  actuals.hospitalBeds.capacity           0 non-null      float64       \n",
            " 14  actuals.hospitalBeds.currentUsageTotal  302 non-null    float64       \n",
            " 15  actuals.hospitalBeds.currentUsageCovid  302 non-null    float64       \n",
            " 16  actuals.hospitalBeds.typicalUsageRate   0 non-null      float64       \n",
            " 17  actuals.icuBeds.capacity                302 non-null    float64       \n",
            " 18  actuals.icuBeds.currentUsageTotal       302 non-null    float64       \n",
            " 19  actuals.icuBeds.currentUsageCovid       495 non-null    object        \n",
            " 20  actuals.icuBeds.typicalUsageRate        0 non-null      float64       \n",
            " 21  actuals.newCases                        488 non-null    float64       \n",
            " 22  actuals.vaccinesDistributed             156 non-null    float64       \n",
            " 23  actuals.vaccinationsInitiated           156 non-null    float64       \n",
            " 24  actuals.vaccinationsCompleted           156 non-null    float64       \n",
            " 25  metrics.testPositivityRatio             494 non-null    float64       \n",
            " 26  metrics.testPositivityRatioDetails      0 non-null      float64       \n",
            " 27  metrics.caseDensity                     498 non-null    float64       \n",
            " 28  metrics.contactTracerCapacityRatio      418 non-null    float64       \n",
            " 29  metrics.infectionRate                   488 non-null    float64       \n",
            " 30  metrics.infectionRateCI90               488 non-null    float64       \n",
            " 31  metrics.icuHeadroomRatio                302 non-null    float64       \n",
            " 32  metrics.icuHeadroomDetails              0 non-null      float64       \n",
            " 33  metrics.icuCapacityRatio                302 non-null    float64       \n",
            " 34  riskLevels.overall                      501 non-null    int64         \n",
            " 35  metrics.vaccinationsInitiatedRatio      156 non-null    float64       \n",
            " 36  metrics.vaccinationsCompletedRatio      156 non-null    float64       \n",
            " 37  actuals.newDeaths                       489 non-null    float64       \n",
            " 38  actuals.vaccinesAdministered            156 non-null    float64       \n",
            "dtypes: datetime64[ns](1), float64(31), int64(2), object(5)\n",
            "memory usage: 152.8+ KB\n"
          ]
        }
      ]
    },
    {
      "cell_type": "code",
      "source": [
        "df2.describe()"
      ],
      "metadata": {
        "colab": {
          "base_uri": "https://localhost:8080/",
          "height": 394
        },
        "id": "4RYa07Z1Mzud",
        "outputId": "4d7668af-cdab-40c3-8dde-26022ec3fc6e"
      },
      "execution_count": 8,
      "outputs": [
        {
          "output_type": "execute_result",
          "data": {
            "text/plain": [
              "       county   fips  lat  long  actuals.cases  actuals.deaths  \\\n",
              "count     0.0  501.0  0.0   0.0   4.920000e+02      492.000000   \n",
              "mean      NaN   42.0  NaN   NaN   4.610324e+05    12899.796748   \n",
              "std       NaN    0.0  NaN   NaN   4.402533e+05     9208.187981   \n",
              "min       NaN   42.0  NaN   NaN   2.000000e+00        0.000000   \n",
              "25%       NaN   42.0  NaN   NaN   9.170450e+04     6701.750000   \n",
              "50%       NaN   42.0  NaN   NaN   1.923740e+05     8644.500000   \n",
              "75%       NaN   42.0  NaN   NaN   9.186368e+05    23644.250000   \n",
              "max       NaN   42.0  NaN   NaN   1.215735e+06    27675.000000   \n",
              "\n",
              "       actuals.positiveTests  actuals.negativeTests  \\\n",
              "count           4.960000e+02           4.980000e+02   \n",
              "mean            4.984688e+05           5.395527e+06   \n",
              "std             4.503788e+05           4.734033e+06   \n",
              "min             1.000000e+00           9.000000e+00   \n",
              "25%             1.169840e+05           8.947250e+05   \n",
              "50%             2.400670e+05           3.855450e+06   \n",
              "75%             9.789840e+05           9.809940e+06   \n",
              "max             1.247507e+06           1.397632e+07   \n",
              "\n",
              "       actuals.hospitalBeds.capacity  actuals.hospitalBeds.currentUsageTotal  \\\n",
              "count                            0.0                              302.000000   \n",
              "mean                             NaN                            25574.609272   \n",
              "std                              NaN                             1712.532400   \n",
              "min                              NaN                            21074.000000   \n",
              "25%                              NaN                            24286.500000   \n",
              "50%                              NaN                            25433.500000   \n",
              "75%                              NaN                            26694.500000   \n",
              "max                              NaN                            30121.000000   \n",
              "\n",
              "       ...  metrics.infectionRate  metrics.infectionRateCI90  \\\n",
              "count  ...             488.000000                 488.000000   \n",
              "mean   ...               1.043217                   0.111865   \n",
              "std    ...               0.265452                   0.067447   \n",
              "min    ...               0.670000                   0.100000   \n",
              "25%    ...               0.890000                   0.100000   \n",
              "50%    ...               1.000000                   0.100000   \n",
              "75%    ...               1.110000                   0.100000   \n",
              "max    ...               2.120000                   0.840000   \n",
              "\n",
              "       metrics.icuHeadroomRatio  metrics.icuHeadroomDetails  \\\n",
              "count                302.000000                         0.0   \n",
              "mean                   0.364834                         NaN   \n",
              "std                    0.156075                         NaN   \n",
              "min                    0.090000                         NaN   \n",
              "25%                    0.242500                         NaN   \n",
              "50%                    0.330000                         NaN   \n",
              "75%                    0.477500                         NaN   \n",
              "max                    0.670000                         NaN   \n",
              "\n",
              "       metrics.icuCapacityRatio  riskLevels.overall  \\\n",
              "count                302.000000          501.000000   \n",
              "mean                   0.783377            1.922156   \n",
              "std                    0.034572            1.069546   \n",
              "min                    0.680000            0.000000   \n",
              "25%                    0.760000            1.000000   \n",
              "50%                    0.790000            2.000000   \n",
              "75%                    0.810000            3.000000   \n",
              "max                    0.850000            5.000000   \n",
              "\n",
              "       metrics.vaccinationsInitiatedRatio  metrics.vaccinationsCompletedRatio  \\\n",
              "count                          156.000000                          156.000000   \n",
              "mean                             0.345308                            0.222532   \n",
              "std                              0.202455                            0.166312   \n",
              "min                              0.028000                            0.004000   \n",
              "25%                              0.144750                            0.062000   \n",
              "50%                              0.354000                            0.191500   \n",
              "75%                              0.543000                            0.387250   \n",
              "max                              0.622000                            0.489000   \n",
              "\n",
              "       actuals.newDeaths  actuals.vaccinesAdministered  \n",
              "count         489.000000                  1.560000e+02  \n",
              "mean           56.905930                  7.047403e+06  \n",
              "std            71.124741                  4.508568e+06  \n",
              "min             0.000000                  4.104140e+05  \n",
              "25%            13.000000                  2.647661e+06  \n",
              "50%            31.000000                  6.810884e+06  \n",
              "75%            70.000000                  1.148192e+07  \n",
              "max           401.000000                  1.371548e+07  \n",
              "\n",
              "[8 rows x 33 columns]"
            ],
            "text/html": [
              "\n",
              "  <div id=\"df-47c77a7b-08db-42ae-9223-028bd8dcf998\">\n",
              "    <div class=\"colab-df-container\">\n",
              "      <div>\n",
              "<style scoped>\n",
              "    .dataframe tbody tr th:only-of-type {\n",
              "        vertical-align: middle;\n",
              "    }\n",
              "\n",
              "    .dataframe tbody tr th {\n",
              "        vertical-align: top;\n",
              "    }\n",
              "\n",
              "    .dataframe thead th {\n",
              "        text-align: right;\n",
              "    }\n",
              "</style>\n",
              "<table border=\"1\" class=\"dataframe\">\n",
              "  <thead>\n",
              "    <tr style=\"text-align: right;\">\n",
              "      <th></th>\n",
              "      <th>county</th>\n",
              "      <th>fips</th>\n",
              "      <th>lat</th>\n",
              "      <th>long</th>\n",
              "      <th>actuals.cases</th>\n",
              "      <th>actuals.deaths</th>\n",
              "      <th>actuals.positiveTests</th>\n",
              "      <th>actuals.negativeTests</th>\n",
              "      <th>actuals.hospitalBeds.capacity</th>\n",
              "      <th>actuals.hospitalBeds.currentUsageTotal</th>\n",
              "      <th>...</th>\n",
              "      <th>metrics.infectionRate</th>\n",
              "      <th>metrics.infectionRateCI90</th>\n",
              "      <th>metrics.icuHeadroomRatio</th>\n",
              "      <th>metrics.icuHeadroomDetails</th>\n",
              "      <th>metrics.icuCapacityRatio</th>\n",
              "      <th>riskLevels.overall</th>\n",
              "      <th>metrics.vaccinationsInitiatedRatio</th>\n",
              "      <th>metrics.vaccinationsCompletedRatio</th>\n",
              "      <th>actuals.newDeaths</th>\n",
              "      <th>actuals.vaccinesAdministered</th>\n",
              "    </tr>\n",
              "  </thead>\n",
              "  <tbody>\n",
              "    <tr>\n",
              "      <th>count</th>\n",
              "      <td>0.0</td>\n",
              "      <td>501.0</td>\n",
              "      <td>0.0</td>\n",
              "      <td>0.0</td>\n",
              "      <td>4.920000e+02</td>\n",
              "      <td>492.000000</td>\n",
              "      <td>4.960000e+02</td>\n",
              "      <td>4.980000e+02</td>\n",
              "      <td>0.0</td>\n",
              "      <td>302.000000</td>\n",
              "      <td>...</td>\n",
              "      <td>488.000000</td>\n",
              "      <td>488.000000</td>\n",
              "      <td>302.000000</td>\n",
              "      <td>0.0</td>\n",
              "      <td>302.000000</td>\n",
              "      <td>501.000000</td>\n",
              "      <td>156.000000</td>\n",
              "      <td>156.000000</td>\n",
              "      <td>489.000000</td>\n",
              "      <td>1.560000e+02</td>\n",
              "    </tr>\n",
              "    <tr>\n",
              "      <th>mean</th>\n",
              "      <td>NaN</td>\n",
              "      <td>42.0</td>\n",
              "      <td>NaN</td>\n",
              "      <td>NaN</td>\n",
              "      <td>4.610324e+05</td>\n",
              "      <td>12899.796748</td>\n",
              "      <td>4.984688e+05</td>\n",
              "      <td>5.395527e+06</td>\n",
              "      <td>NaN</td>\n",
              "      <td>25574.609272</td>\n",
              "      <td>...</td>\n",
              "      <td>1.043217</td>\n",
              "      <td>0.111865</td>\n",
              "      <td>0.364834</td>\n",
              "      <td>NaN</td>\n",
              "      <td>0.783377</td>\n",
              "      <td>1.922156</td>\n",
              "      <td>0.345308</td>\n",
              "      <td>0.222532</td>\n",
              "      <td>56.905930</td>\n",
              "      <td>7.047403e+06</td>\n",
              "    </tr>\n",
              "    <tr>\n",
              "      <th>std</th>\n",
              "      <td>NaN</td>\n",
              "      <td>0.0</td>\n",
              "      <td>NaN</td>\n",
              "      <td>NaN</td>\n",
              "      <td>4.402533e+05</td>\n",
              "      <td>9208.187981</td>\n",
              "      <td>4.503788e+05</td>\n",
              "      <td>4.734033e+06</td>\n",
              "      <td>NaN</td>\n",
              "      <td>1712.532400</td>\n",
              "      <td>...</td>\n",
              "      <td>0.265452</td>\n",
              "      <td>0.067447</td>\n",
              "      <td>0.156075</td>\n",
              "      <td>NaN</td>\n",
              "      <td>0.034572</td>\n",
              "      <td>1.069546</td>\n",
              "      <td>0.202455</td>\n",
              "      <td>0.166312</td>\n",
              "      <td>71.124741</td>\n",
              "      <td>4.508568e+06</td>\n",
              "    </tr>\n",
              "    <tr>\n",
              "      <th>min</th>\n",
              "      <td>NaN</td>\n",
              "      <td>42.0</td>\n",
              "      <td>NaN</td>\n",
              "      <td>NaN</td>\n",
              "      <td>2.000000e+00</td>\n",
              "      <td>0.000000</td>\n",
              "      <td>1.000000e+00</td>\n",
              "      <td>9.000000e+00</td>\n",
              "      <td>NaN</td>\n",
              "      <td>21074.000000</td>\n",
              "      <td>...</td>\n",
              "      <td>0.670000</td>\n",
              "      <td>0.100000</td>\n",
              "      <td>0.090000</td>\n",
              "      <td>NaN</td>\n",
              "      <td>0.680000</td>\n",
              "      <td>0.000000</td>\n",
              "      <td>0.028000</td>\n",
              "      <td>0.004000</td>\n",
              "      <td>0.000000</td>\n",
              "      <td>4.104140e+05</td>\n",
              "    </tr>\n",
              "    <tr>\n",
              "      <th>25%</th>\n",
              "      <td>NaN</td>\n",
              "      <td>42.0</td>\n",
              "      <td>NaN</td>\n",
              "      <td>NaN</td>\n",
              "      <td>9.170450e+04</td>\n",
              "      <td>6701.750000</td>\n",
              "      <td>1.169840e+05</td>\n",
              "      <td>8.947250e+05</td>\n",
              "      <td>NaN</td>\n",
              "      <td>24286.500000</td>\n",
              "      <td>...</td>\n",
              "      <td>0.890000</td>\n",
              "      <td>0.100000</td>\n",
              "      <td>0.242500</td>\n",
              "      <td>NaN</td>\n",
              "      <td>0.760000</td>\n",
              "      <td>1.000000</td>\n",
              "      <td>0.144750</td>\n",
              "      <td>0.062000</td>\n",
              "      <td>13.000000</td>\n",
              "      <td>2.647661e+06</td>\n",
              "    </tr>\n",
              "    <tr>\n",
              "      <th>50%</th>\n",
              "      <td>NaN</td>\n",
              "      <td>42.0</td>\n",
              "      <td>NaN</td>\n",
              "      <td>NaN</td>\n",
              "      <td>1.923740e+05</td>\n",
              "      <td>8644.500000</td>\n",
              "      <td>2.400670e+05</td>\n",
              "      <td>3.855450e+06</td>\n",
              "      <td>NaN</td>\n",
              "      <td>25433.500000</td>\n",
              "      <td>...</td>\n",
              "      <td>1.000000</td>\n",
              "      <td>0.100000</td>\n",
              "      <td>0.330000</td>\n",
              "      <td>NaN</td>\n",
              "      <td>0.790000</td>\n",
              "      <td>2.000000</td>\n",
              "      <td>0.354000</td>\n",
              "      <td>0.191500</td>\n",
              "      <td>31.000000</td>\n",
              "      <td>6.810884e+06</td>\n",
              "    </tr>\n",
              "    <tr>\n",
              "      <th>75%</th>\n",
              "      <td>NaN</td>\n",
              "      <td>42.0</td>\n",
              "      <td>NaN</td>\n",
              "      <td>NaN</td>\n",
              "      <td>9.186368e+05</td>\n",
              "      <td>23644.250000</td>\n",
              "      <td>9.789840e+05</td>\n",
              "      <td>9.809940e+06</td>\n",
              "      <td>NaN</td>\n",
              "      <td>26694.500000</td>\n",
              "      <td>...</td>\n",
              "      <td>1.110000</td>\n",
              "      <td>0.100000</td>\n",
              "      <td>0.477500</td>\n",
              "      <td>NaN</td>\n",
              "      <td>0.810000</td>\n",
              "      <td>3.000000</td>\n",
              "      <td>0.543000</td>\n",
              "      <td>0.387250</td>\n",
              "      <td>70.000000</td>\n",
              "      <td>1.148192e+07</td>\n",
              "    </tr>\n",
              "    <tr>\n",
              "      <th>max</th>\n",
              "      <td>NaN</td>\n",
              "      <td>42.0</td>\n",
              "      <td>NaN</td>\n",
              "      <td>NaN</td>\n",
              "      <td>1.215735e+06</td>\n",
              "      <td>27675.000000</td>\n",
              "      <td>1.247507e+06</td>\n",
              "      <td>1.397632e+07</td>\n",
              "      <td>NaN</td>\n",
              "      <td>30121.000000</td>\n",
              "      <td>...</td>\n",
              "      <td>2.120000</td>\n",
              "      <td>0.840000</td>\n",
              "      <td>0.670000</td>\n",
              "      <td>NaN</td>\n",
              "      <td>0.850000</td>\n",
              "      <td>5.000000</td>\n",
              "      <td>0.622000</td>\n",
              "      <td>0.489000</td>\n",
              "      <td>401.000000</td>\n",
              "      <td>1.371548e+07</td>\n",
              "    </tr>\n",
              "  </tbody>\n",
              "</table>\n",
              "<p>8 rows × 33 columns</p>\n",
              "</div>\n",
              "      <button class=\"colab-df-convert\" onclick=\"convertToInteractive('df-47c77a7b-08db-42ae-9223-028bd8dcf998')\"\n",
              "              title=\"Convert this dataframe to an interactive table.\"\n",
              "              style=\"display:none;\">\n",
              "        \n",
              "  <svg xmlns=\"http://www.w3.org/2000/svg\" height=\"24px\"viewBox=\"0 0 24 24\"\n",
              "       width=\"24px\">\n",
              "    <path d=\"M0 0h24v24H0V0z\" fill=\"none\"/>\n",
              "    <path d=\"M18.56 5.44l.94 2.06.94-2.06 2.06-.94-2.06-.94-.94-2.06-.94 2.06-2.06.94zm-11 1L8.5 8.5l.94-2.06 2.06-.94-2.06-.94L8.5 2.5l-.94 2.06-2.06.94zm10 10l.94 2.06.94-2.06 2.06-.94-2.06-.94-.94-2.06-.94 2.06-2.06.94z\"/><path d=\"M17.41 7.96l-1.37-1.37c-.4-.4-.92-.59-1.43-.59-.52 0-1.04.2-1.43.59L10.3 9.45l-7.72 7.72c-.78.78-.78 2.05 0 2.83L4 21.41c.39.39.9.59 1.41.59.51 0 1.02-.2 1.41-.59l7.78-7.78 2.81-2.81c.8-.78.8-2.07 0-2.86zM5.41 20L4 18.59l7.72-7.72 1.47 1.35L5.41 20z\"/>\n",
              "  </svg>\n",
              "      </button>\n",
              "      \n",
              "  <style>\n",
              "    .colab-df-container {\n",
              "      display:flex;\n",
              "      flex-wrap:wrap;\n",
              "      gap: 12px;\n",
              "    }\n",
              "\n",
              "    .colab-df-convert {\n",
              "      background-color: #E8F0FE;\n",
              "      border: none;\n",
              "      border-radius: 50%;\n",
              "      cursor: pointer;\n",
              "      display: none;\n",
              "      fill: #1967D2;\n",
              "      height: 32px;\n",
              "      padding: 0 0 0 0;\n",
              "      width: 32px;\n",
              "    }\n",
              "\n",
              "    .colab-df-convert:hover {\n",
              "      background-color: #E2EBFA;\n",
              "      box-shadow: 0px 1px 2px rgba(60, 64, 67, 0.3), 0px 1px 3px 1px rgba(60, 64, 67, 0.15);\n",
              "      fill: #174EA6;\n",
              "    }\n",
              "\n",
              "    [theme=dark] .colab-df-convert {\n",
              "      background-color: #3B4455;\n",
              "      fill: #D2E3FC;\n",
              "    }\n",
              "\n",
              "    [theme=dark] .colab-df-convert:hover {\n",
              "      background-color: #434B5C;\n",
              "      box-shadow: 0px 1px 3px 1px rgba(0, 0, 0, 0.15);\n",
              "      filter: drop-shadow(0px 1px 2px rgba(0, 0, 0, 0.3));\n",
              "      fill: #FFFFFF;\n",
              "    }\n",
              "  </style>\n",
              "\n",
              "      <script>\n",
              "        const buttonEl =\n",
              "          document.querySelector('#df-47c77a7b-08db-42ae-9223-028bd8dcf998 button.colab-df-convert');\n",
              "        buttonEl.style.display =\n",
              "          google.colab.kernel.accessAllowed ? 'block' : 'none';\n",
              "\n",
              "        async function convertToInteractive(key) {\n",
              "          const element = document.querySelector('#df-47c77a7b-08db-42ae-9223-028bd8dcf998');\n",
              "          const dataTable =\n",
              "            await google.colab.kernel.invokeFunction('convertToInteractive',\n",
              "                                                     [key], {});\n",
              "          if (!dataTable) return;\n",
              "\n",
              "          const docLinkHtml = 'Like what you see? Visit the ' +\n",
              "            '<a target=\"_blank\" href=https://colab.research.google.com/notebooks/data_table.ipynb>data table notebook</a>'\n",
              "            + ' to learn more about interactive tables.';\n",
              "          element.innerHTML = '';\n",
              "          dataTable['output_type'] = 'display_data';\n",
              "          await google.colab.output.renderOutput(dataTable, element);\n",
              "          const docLink = document.createElement('div');\n",
              "          docLink.innerHTML = docLinkHtml;\n",
              "          element.appendChild(docLink);\n",
              "        }\n",
              "      </script>\n",
              "    </div>\n",
              "  </div>\n",
              "  "
            ]
          },
          "metadata": {},
          "execution_count": 8
        }
      ]
    },
    {
      "cell_type": "code",
      "source": [
        "import numpy as np\n"
      ],
      "metadata": {
        "id": "YxL9XEHpM3DL"
      },
      "execution_count": 9,
      "outputs": []
    },
    {
      "cell_type": "markdown",
      "source": [
        "    ** OVERVIEW OF THE DATASET**\n",
        "   GENERAL DESCRIPTION\n",
        "   \n",
        "COVID-related data of the citizens of the United States(US), specifically the people of Pennyslvania.This data spans over a period of 1 year 3 months (i.e. from March 2020 to June 2021). It gives an insight of daily recorded COVID cases, deaths, vaccination completion ration, infection rate, vaccine distributed etc."
      ],
      "metadata": {
        "id": "148izd8W-kHw"
      }
    },
    {
      "cell_type": "code",
      "source": [
        "#DUPLICATE ENTRIES\n",
        "#change to dataframe\n",
        "dup_entries = df2.duplicated().to_frame\n",
        "dup_entries"
      ],
      "metadata": {
        "colab": {
          "base_uri": "https://localhost:8080/"
        },
        "id": "pX88QSCS_oYP",
        "outputId": "17baa9e2-0eff-43a5-ae20-3daaa98d2e76"
      },
      "execution_count": 10,
      "outputs": [
        {
          "output_type": "execute_result",
          "data": {
            "text/plain": [
              "<bound method Series.to_frame of 0      False\n",
              "1      False\n",
              "2      False\n",
              "3      False\n",
              "4      False\n",
              "       ...  \n",
              "496    False\n",
              "497    False\n",
              "498    False\n",
              "499    False\n",
              "500    False\n",
              "Length: 501, dtype: bool>"
            ]
          },
          "metadata": {},
          "execution_count": 10
        }
      ]
    },
    {
      "cell_type": "code",
      "source": [
        "df2.duplicated().value_counts()"
      ],
      "metadata": {
        "colab": {
          "base_uri": "https://localhost:8080/"
        },
        "id": "O4jFhPiVAWT6",
        "outputId": "9a625cb5-cce3-4dbb-9507-b44b45dc5fd7"
      },
      "execution_count": 11,
      "outputs": [
        {
          "output_type": "execute_result",
          "data": {
            "text/plain": [
              "False    481\n",
              "True      20\n",
              "dtype: int64"
            ]
          },
          "metadata": {},
          "execution_count": 11
        }
      ]
    },
    {
      "cell_type": "code",
      "source": [
        "#COVID data recorded on 16th June,2021\n",
        "df3 = df2.loc[df2['date']=='2021-06-16']\n",
        "df3"
      ],
      "metadata": {
        "colab": {
          "base_uri": "https://localhost:8080/",
          "height": 191
        },
        "id": "Y-BLRa2nQcXA",
        "outputId": "9bd11c70-53db-41e3-ce09-e8bc73b7b8b3"
      },
      "execution_count": 12,
      "outputs": [
        {
          "output_type": "execute_result",
          "data": {
            "text/plain": [
              "          date country state  county  fips  lat  long          locationId  \\\n",
              "491 2021-06-16      US    PA     NaN    42  NaN   NaN  iso1:us#iso2:us-pa   \n",
              "\n",
              "     actuals.cases  actuals.deaths  ...  metrics.infectionRate  \\\n",
              "491      1214051.0         27582.0  ...                    0.7   \n",
              "\n",
              "     metrics.infectionRateCI90 metrics.icuHeadroomRatio  \\\n",
              "491                        0.1                      0.1   \n",
              "\n",
              "     metrics.icuHeadroomDetails  metrics.icuCapacityRatio  riskLevels.overall  \\\n",
              "491                         NaN                      0.73                   1   \n",
              "\n",
              "     metrics.vaccinationsInitiatedRatio  metrics.vaccinationsCompletedRatio  \\\n",
              "491                               0.611                               0.472   \n",
              "\n",
              "     actuals.newDeaths actuals.vaccinesAdministered  \n",
              "491               16.0                   13366581.0  \n",
              "\n",
              "[1 rows x 39 columns]"
            ],
            "text/html": [
              "\n",
              "  <div id=\"df-f8f92350-bdb5-443b-90fa-3e4c4cdd856e\">\n",
              "    <div class=\"colab-df-container\">\n",
              "      <div>\n",
              "<style scoped>\n",
              "    .dataframe tbody tr th:only-of-type {\n",
              "        vertical-align: middle;\n",
              "    }\n",
              "\n",
              "    .dataframe tbody tr th {\n",
              "        vertical-align: top;\n",
              "    }\n",
              "\n",
              "    .dataframe thead th {\n",
              "        text-align: right;\n",
              "    }\n",
              "</style>\n",
              "<table border=\"1\" class=\"dataframe\">\n",
              "  <thead>\n",
              "    <tr style=\"text-align: right;\">\n",
              "      <th></th>\n",
              "      <th>date</th>\n",
              "      <th>country</th>\n",
              "      <th>state</th>\n",
              "      <th>county</th>\n",
              "      <th>fips</th>\n",
              "      <th>lat</th>\n",
              "      <th>long</th>\n",
              "      <th>locationId</th>\n",
              "      <th>actuals.cases</th>\n",
              "      <th>actuals.deaths</th>\n",
              "      <th>...</th>\n",
              "      <th>metrics.infectionRate</th>\n",
              "      <th>metrics.infectionRateCI90</th>\n",
              "      <th>metrics.icuHeadroomRatio</th>\n",
              "      <th>metrics.icuHeadroomDetails</th>\n",
              "      <th>metrics.icuCapacityRatio</th>\n",
              "      <th>riskLevels.overall</th>\n",
              "      <th>metrics.vaccinationsInitiatedRatio</th>\n",
              "      <th>metrics.vaccinationsCompletedRatio</th>\n",
              "      <th>actuals.newDeaths</th>\n",
              "      <th>actuals.vaccinesAdministered</th>\n",
              "    </tr>\n",
              "  </thead>\n",
              "  <tbody>\n",
              "    <tr>\n",
              "      <th>491</th>\n",
              "      <td>2021-06-16</td>\n",
              "      <td>US</td>\n",
              "      <td>PA</td>\n",
              "      <td>NaN</td>\n",
              "      <td>42</td>\n",
              "      <td>NaN</td>\n",
              "      <td>NaN</td>\n",
              "      <td>iso1:us#iso2:us-pa</td>\n",
              "      <td>1214051.0</td>\n",
              "      <td>27582.0</td>\n",
              "      <td>...</td>\n",
              "      <td>0.7</td>\n",
              "      <td>0.1</td>\n",
              "      <td>0.1</td>\n",
              "      <td>NaN</td>\n",
              "      <td>0.73</td>\n",
              "      <td>1</td>\n",
              "      <td>0.611</td>\n",
              "      <td>0.472</td>\n",
              "      <td>16.0</td>\n",
              "      <td>13366581.0</td>\n",
              "    </tr>\n",
              "  </tbody>\n",
              "</table>\n",
              "<p>1 rows × 39 columns</p>\n",
              "</div>\n",
              "      <button class=\"colab-df-convert\" onclick=\"convertToInteractive('df-f8f92350-bdb5-443b-90fa-3e4c4cdd856e')\"\n",
              "              title=\"Convert this dataframe to an interactive table.\"\n",
              "              style=\"display:none;\">\n",
              "        \n",
              "  <svg xmlns=\"http://www.w3.org/2000/svg\" height=\"24px\"viewBox=\"0 0 24 24\"\n",
              "       width=\"24px\">\n",
              "    <path d=\"M0 0h24v24H0V0z\" fill=\"none\"/>\n",
              "    <path d=\"M18.56 5.44l.94 2.06.94-2.06 2.06-.94-2.06-.94-.94-2.06-.94 2.06-2.06.94zm-11 1L8.5 8.5l.94-2.06 2.06-.94-2.06-.94L8.5 2.5l-.94 2.06-2.06.94zm10 10l.94 2.06.94-2.06 2.06-.94-2.06-.94-.94-2.06-.94 2.06-2.06.94z\"/><path d=\"M17.41 7.96l-1.37-1.37c-.4-.4-.92-.59-1.43-.59-.52 0-1.04.2-1.43.59L10.3 9.45l-7.72 7.72c-.78.78-.78 2.05 0 2.83L4 21.41c.39.39.9.59 1.41.59.51 0 1.02-.2 1.41-.59l7.78-7.78 2.81-2.81c.8-.78.8-2.07 0-2.86zM5.41 20L4 18.59l7.72-7.72 1.47 1.35L5.41 20z\"/>\n",
              "  </svg>\n",
              "      </button>\n",
              "      \n",
              "  <style>\n",
              "    .colab-df-container {\n",
              "      display:flex;\n",
              "      flex-wrap:wrap;\n",
              "      gap: 12px;\n",
              "    }\n",
              "\n",
              "    .colab-df-convert {\n",
              "      background-color: #E8F0FE;\n",
              "      border: none;\n",
              "      border-radius: 50%;\n",
              "      cursor: pointer;\n",
              "      display: none;\n",
              "      fill: #1967D2;\n",
              "      height: 32px;\n",
              "      padding: 0 0 0 0;\n",
              "      width: 32px;\n",
              "    }\n",
              "\n",
              "    .colab-df-convert:hover {\n",
              "      background-color: #E2EBFA;\n",
              "      box-shadow: 0px 1px 2px rgba(60, 64, 67, 0.3), 0px 1px 3px 1px rgba(60, 64, 67, 0.15);\n",
              "      fill: #174EA6;\n",
              "    }\n",
              "\n",
              "    [theme=dark] .colab-df-convert {\n",
              "      background-color: #3B4455;\n",
              "      fill: #D2E3FC;\n",
              "    }\n",
              "\n",
              "    [theme=dark] .colab-df-convert:hover {\n",
              "      background-color: #434B5C;\n",
              "      box-shadow: 0px 1px 3px 1px rgba(0, 0, 0, 0.15);\n",
              "      filter: drop-shadow(0px 1px 2px rgba(0, 0, 0, 0.3));\n",
              "      fill: #FFFFFF;\n",
              "    }\n",
              "  </style>\n",
              "\n",
              "      <script>\n",
              "        const buttonEl =\n",
              "          document.querySelector('#df-f8f92350-bdb5-443b-90fa-3e4c4cdd856e button.colab-df-convert');\n",
              "        buttonEl.style.display =\n",
              "          google.colab.kernel.accessAllowed ? 'block' : 'none';\n",
              "\n",
              "        async function convertToInteractive(key) {\n",
              "          const element = document.querySelector('#df-f8f92350-bdb5-443b-90fa-3e4c4cdd856e');\n",
              "          const dataTable =\n",
              "            await google.colab.kernel.invokeFunction('convertToInteractive',\n",
              "                                                     [key], {});\n",
              "          if (!dataTable) return;\n",
              "\n",
              "          const docLinkHtml = 'Like what you see? Visit the ' +\n",
              "            '<a target=\"_blank\" href=https://colab.research.google.com/notebooks/data_table.ipynb>data table notebook</a>'\n",
              "            + ' to learn more about interactive tables.';\n",
              "          element.innerHTML = '';\n",
              "          dataTable['output_type'] = 'display_data';\n",
              "          await google.colab.output.renderOutput(dataTable, element);\n",
              "          const docLink = document.createElement('div');\n",
              "          docLink.innerHTML = docLinkHtml;\n",
              "          element.appendChild(docLink);\n",
              "        }\n",
              "      </script>\n",
              "    </div>\n",
              "  </div>\n",
              "  "
            ]
          },
          "metadata": {},
          "execution_count": 12
        }
      ]
    },
    {
      "cell_type": "markdown",
      "source": [
        ""
      ],
      "metadata": {
        "id": "Wo9hC4GG-h4x"
      }
    },
    {
      "cell_type": "code",
      "source": [
        "df3 = df2.loc[df2['date']=='2021-06-16']['state']\n",
        "df3"
      ],
      "metadata": {
        "colab": {
          "base_uri": "https://localhost:8080/"
        },
        "id": "C1zwe8buTxDB",
        "outputId": "39492712-6876-4898-ca1f-b7facc40b1b3"
      },
      "execution_count": 13,
      "outputs": [
        {
          "output_type": "execute_result",
          "data": {
            "text/plain": [
              "491    PA\n",
              "Name: state, dtype: object"
            ]
          },
          "metadata": {},
          "execution_count": 13
        }
      ]
    },
    {
      "cell_type": "code",
      "source": [
        "state = df2.loc[df2['date']=='2021-06-16']['state']\n",
        "state = state.values[0]\n",
        "# state = us.states.state.name\n",
        "state\n"
      ],
      "metadata": {
        "colab": {
          "base_uri": "https://localhost:8080/",
          "height": 35
        },
        "id": "z86yg9vSedkM",
        "outputId": "cab85a9e-fa13-4b79-c938-7a151c61acd9"
      },
      "execution_count": 105,
      "outputs": [
        {
          "output_type": "execute_result",
          "data": {
            "text/plain": [
              "'PA'"
            ],
            "application/vnd.google.colaboratory.intrinsic+json": {
              "type": "string"
            }
          },
          "metadata": {},
          "execution_count": 105
        }
      ]
    },
    {
      "cell_type": "code",
      "source": [
        "newCases = df2.loc[df2['date']=='2021-06-16']['actuals.newCases']\n",
        "newCases = newCases.values[0]\n",
        "newCases"
      ],
      "metadata": {
        "colab": {
          "base_uri": "https://localhost:8080/"
        },
        "id": "xeZ7rWGcewfq",
        "outputId": "7dd91e99-c40e-48ea-8cab-52241114dbf1"
      },
      "execution_count": 66,
      "outputs": [
        {
          "output_type": "execute_result",
          "data": {
            "text/plain": [
              "279.0"
            ]
          },
          "metadata": {},
          "execution_count": 66
        }
      ]
    },
    {
      "cell_type": "code",
      "source": [
        "newDeaths = df2.loc[df2['date']=='2021-06-16']['actuals.newDeaths']\n",
        "newDeaths = newDeaths.values[0]\n",
        "newDeaths"
      ],
      "metadata": {
        "colab": {
          "base_uri": "https://localhost:8080/"
        },
        "id": "Kt-aEmS_gOqP",
        "outputId": "6b28db23-6656-46ae-e94a-e95ace347bfa"
      },
      "execution_count": 67,
      "outputs": [
        {
          "output_type": "execute_result",
          "data": {
            "text/plain": [
              "16.0"
            ]
          },
          "metadata": {},
          "execution_count": 67
        }
      ]
    },
    {
      "cell_type": "code",
      "source": [
        "cases = df2.loc[df2['date']=='2021-06-16']['actuals.cases']"
      ],
      "metadata": {
        "id": "m7SdEIjrggv2"
      },
      "execution_count": 17,
      "outputs": []
    },
    {
      "cell_type": "code",
      "source": [
        "#cummulative confirmed or suspected cases \n",
        "cumulative_confirmed_cases = cases + newCases\n",
        "cumulative_confirmed_cases = cumulative_confirmed_cases.values[0]\n",
        "cumulative_confirmed_cases"
      ],
      "metadata": {
        "id": "JuF-8gfzgvqf",
        "colab": {
          "base_uri": "https://localhost:8080/"
        },
        "outputId": "14503fc3-fa1a-4063-f786-6933adc47e1c"
      },
      "execution_count": 68,
      "outputs": [
        {
          "output_type": "execute_result",
          "data": {
            "text/plain": [
              "1214330.0"
            ]
          },
          "metadata": {},
          "execution_count": 68
        }
      ]
    },
    {
      "cell_type": "code",
      "source": [
        "df2.loc[df2['date']=='2021-06-16']['actuals.deaths']"
      ],
      "metadata": {
        "colab": {
          "base_uri": "https://localhost:8080/"
        },
        "id": "3WT2xg9GE9aF",
        "outputId": "e0dcc7d4-ac46-482f-a8e7-a337a0ebd780"
      },
      "execution_count": 19,
      "outputs": [
        {
          "output_type": "execute_result",
          "data": {
            "text/plain": [
              "491    27582.0\n",
              "Name: actuals.deaths, dtype: float64"
            ]
          },
          "metadata": {},
          "execution_count": 19
        }
      ]
    },
    {
      "cell_type": "code",
      "source": [
        "deaths = df2.loc[df2['date']=='2021-06-16']['actuals.deaths']"
      ],
      "metadata": {
        "id": "cnrfemD8FZla"
      },
      "execution_count": 20,
      "outputs": []
    },
    {
      "cell_type": "code",
      "source": [
        "#Cumulative deaths that are suspected or confirmed\n",
        "cummulative_deaths_that_are_suspected = deaths + newDeaths\n",
        "cummulative_deaths_that_are_suspected = cummulative_deaths_that_are_suspected.values[0]\n",
        "cummulative_deaths_that_are_suspected"
      ],
      "metadata": {
        "colab": {
          "base_uri": "https://localhost:8080/"
        },
        "id": "ytmAgPDDFnsl",
        "outputId": "8cdd7770-e007-4589-bf96-14a840c971d9"
      },
      "execution_count": 70,
      "outputs": [
        {
          "output_type": "execute_result",
          "data": {
            "text/plain": [
              "27598.0"
            ]
          },
          "metadata": {},
          "execution_count": 70
        }
      ]
    },
    {
      "cell_type": "markdown",
      "source": [
        "**Ratio of population that has completed vaccination.**"
      ],
      "metadata": {
        "id": "7_5dl20TvhCN"
      }
    },
    {
      "cell_type": "code",
      "source": [
        "vaccinationsCompletedRatio = df2.loc[df2['date']=='2021-06-16']['metrics.vaccinationsCompletedRatio']\n",
        "vaccinationsCompletedRatio = vaccinationsCompletedRatio.values[0]\n",
        "vaccinationsCompletedRatio"
      ],
      "metadata": {
        "colab": {
          "base_uri": "https://localhost:8080/"
        },
        "id": "IZ_7s2R01ies",
        "outputId": "90a10829-4e77-446c-ca61-ccde4ddf5273"
      },
      "execution_count": 91,
      "outputs": [
        {
          "output_type": "execute_result",
          "data": {
            "text/plain": [
              "0.472"
            ]
          },
          "metadata": {},
          "execution_count": 91
        }
      ]
    },
    {
      "cell_type": "markdown",
      "source": [
        "**Ratio of population that has initiated vaccination**"
      ],
      "metadata": {
        "id": "HU3I_dSevoD7"
      }
    },
    {
      "cell_type": "code",
      "source": [
        "vaccinationsInitiatedRatio = df2.loc[df2['date']=='2021-06-16']['metrics.vaccinationsInitiatedRatio']\n",
        "vaccinationsInitiatedRatio = vaccinationsInitiatedRatio.values[0]\n",
        "vaccinationsInitiatedRatio"
      ],
      "metadata": {
        "colab": {
          "base_uri": "https://localhost:8080/"
        },
        "id": "-bx4CWr2YThb",
        "outputId": "1f865a5a-e034-456f-9fba-cf8572d1b08b"
      },
      "execution_count": 92,
      "outputs": [
        {
          "output_type": "execute_result",
          "data": {
            "text/plain": [
              "0.611"
            ]
          },
          "metadata": {},
          "execution_count": 92
        }
      ]
    },
    {
      "cell_type": "code",
      "source": [
        "vaccinationCompleted = df2.loc[df2['date']=='2021-06-16']['actuals.vaccinationsCompleted']\n",
        "vaccinationCompleted = vaccinationCompleted.values[0]\n",
        "vaccinationCompleted"
      ],
      "metadata": {
        "colab": {
          "base_uri": "https://localhost:8080/"
        },
        "id": "3PWv2xxgdOhi",
        "outputId": "a5b90131-7bef-4f9a-8856-00a85e9211bd"
      },
      "execution_count": 93,
      "outputs": [
        {
          "output_type": "execute_result",
          "data": {
            "text/plain": [
              "6045055.0"
            ]
          },
          "metadata": {},
          "execution_count": 93
        }
      ]
    },
    {
      "cell_type": "code",
      "source": [
        "vaccinationInitiated =  df2.loc[df2['date']=='2021-06-16']['actuals.vaccinationsInitiated']\n",
        "vaccinationInitiated = vaccinationInitiated.values[0]\n",
        "vaccinationInitiated"
      ],
      "metadata": {
        "colab": {
          "base_uri": "https://localhost:8080/"
        },
        "id": "5TYoT2gEdp-A",
        "outputId": "6eed9b06-c848-44d0-c6ac-7b88d4fd7bc3"
      },
      "execution_count": 94,
      "outputs": [
        {
          "output_type": "execute_result",
          "data": {
            "text/plain": [
              "7818311.0"
            ]
          },
          "metadata": {},
          "execution_count": 94
        }
      ]
    },
    {
      "cell_type": "code",
      "source": [
        "rolling_dataset = df2.iloc[485:492]\n",
        "rolling_dataset"
      ],
      "metadata": {
        "colab": {
          "base_uri": "https://localhost:8080/",
          "height": 484
        },
        "id": "1FTS1u6tyo01",
        "outputId": "6d4494b7-2d9e-4f55-afc3-c603e91ba0a1"
      },
      "execution_count": 24,
      "outputs": [
        {
          "output_type": "execute_result",
          "data": {
            "text/plain": [
              "          date country state  county  fips  lat  long          locationId  \\\n",
              "485 2021-06-10      US    PA     NaN    42  NaN   NaN  iso1:us#iso2:us-pa   \n",
              "486 2021-06-11      US    PA     NaN    42  NaN   NaN  iso1:us#iso2:us-pa   \n",
              "487 2021-06-12      US    PA     NaN    42  NaN   NaN  iso1:us#iso2:us-pa   \n",
              "488 2021-06-13      US    PA     NaN    42  NaN   NaN  iso1:us#iso2:us-pa   \n",
              "489 2021-06-14      US    PA     NaN    42  NaN   NaN  iso1:us#iso2:us-pa   \n",
              "490 2021-06-15      US    PA     NaN    42  NaN   NaN  iso1:us#iso2:us-pa   \n",
              "491 2021-06-16      US    PA     NaN    42  NaN   NaN  iso1:us#iso2:us-pa   \n",
              "\n",
              "     actuals.cases  actuals.deaths  ...  metrics.infectionRate  \\\n",
              "485      1212155.0         27493.0  ...                   0.71   \n",
              "486      1212529.0         27510.0  ...                   0.71   \n",
              "487      1212822.0         27526.0  ...                   0.71   \n",
              "488      1213003.0         27540.0  ...                   0.71   \n",
              "489      1213350.0         27543.0  ...                   0.70   \n",
              "490      1213772.0         27566.0  ...                   0.70   \n",
              "491      1214051.0         27582.0  ...                   0.70   \n",
              "\n",
              "     metrics.infectionRateCI90 metrics.icuHeadroomRatio  \\\n",
              "485                        0.1                     0.16   \n",
              "486                        0.1                     0.15   \n",
              "487                        0.1                     0.12   \n",
              "488                        0.1                     0.11   \n",
              "489                        0.1                     0.12   \n",
              "490                        0.1                     0.13   \n",
              "491                        0.1                     0.10   \n",
              "\n",
              "     metrics.icuHeadroomDetails  metrics.icuCapacityRatio  riskLevels.overall  \\\n",
              "485                         NaN                      0.75                   1   \n",
              "486                         NaN                      0.73                   1   \n",
              "487                         NaN                      0.70                   1   \n",
              "488                         NaN                      0.68                   1   \n",
              "489                         NaN                      0.73                   1   \n",
              "490                         NaN                      0.77                   1   \n",
              "491                         NaN                      0.73                   1   \n",
              "\n",
              "     metrics.vaccinationsInitiatedRatio  metrics.vaccinationsCompletedRatio  \\\n",
              "485                               0.601                               0.459   \n",
              "486                               0.603                               0.461   \n",
              "487                               0.606                               0.464   \n",
              "488                               0.608                               0.467   \n",
              "489                               0.609                               0.470   \n",
              "490                               0.611                               0.472   \n",
              "491                               0.611                               0.472   \n",
              "\n",
              "     actuals.newDeaths actuals.vaccinesAdministered  \n",
              "485               21.0                   13084043.0  \n",
              "486               17.0                   13135306.0  \n",
              "487               16.0                   13212289.0  \n",
              "488               14.0                   13267983.0  \n",
              "489                3.0                   13318101.0  \n",
              "490               23.0                   13365625.0  \n",
              "491               16.0                   13366581.0  \n",
              "\n",
              "[7 rows x 39 columns]"
            ],
            "text/html": [
              "\n",
              "  <div id=\"df-95b44a3d-2423-46fc-8b8a-07b437e2e957\">\n",
              "    <div class=\"colab-df-container\">\n",
              "      <div>\n",
              "<style scoped>\n",
              "    .dataframe tbody tr th:only-of-type {\n",
              "        vertical-align: middle;\n",
              "    }\n",
              "\n",
              "    .dataframe tbody tr th {\n",
              "        vertical-align: top;\n",
              "    }\n",
              "\n",
              "    .dataframe thead th {\n",
              "        text-align: right;\n",
              "    }\n",
              "</style>\n",
              "<table border=\"1\" class=\"dataframe\">\n",
              "  <thead>\n",
              "    <tr style=\"text-align: right;\">\n",
              "      <th></th>\n",
              "      <th>date</th>\n",
              "      <th>country</th>\n",
              "      <th>state</th>\n",
              "      <th>county</th>\n",
              "      <th>fips</th>\n",
              "      <th>lat</th>\n",
              "      <th>long</th>\n",
              "      <th>locationId</th>\n",
              "      <th>actuals.cases</th>\n",
              "      <th>actuals.deaths</th>\n",
              "      <th>...</th>\n",
              "      <th>metrics.infectionRate</th>\n",
              "      <th>metrics.infectionRateCI90</th>\n",
              "      <th>metrics.icuHeadroomRatio</th>\n",
              "      <th>metrics.icuHeadroomDetails</th>\n",
              "      <th>metrics.icuCapacityRatio</th>\n",
              "      <th>riskLevels.overall</th>\n",
              "      <th>metrics.vaccinationsInitiatedRatio</th>\n",
              "      <th>metrics.vaccinationsCompletedRatio</th>\n",
              "      <th>actuals.newDeaths</th>\n",
              "      <th>actuals.vaccinesAdministered</th>\n",
              "    </tr>\n",
              "  </thead>\n",
              "  <tbody>\n",
              "    <tr>\n",
              "      <th>485</th>\n",
              "      <td>2021-06-10</td>\n",
              "      <td>US</td>\n",
              "      <td>PA</td>\n",
              "      <td>NaN</td>\n",
              "      <td>42</td>\n",
              "      <td>NaN</td>\n",
              "      <td>NaN</td>\n",
              "      <td>iso1:us#iso2:us-pa</td>\n",
              "      <td>1212155.0</td>\n",
              "      <td>27493.0</td>\n",
              "      <td>...</td>\n",
              "      <td>0.71</td>\n",
              "      <td>0.1</td>\n",
              "      <td>0.16</td>\n",
              "      <td>NaN</td>\n",
              "      <td>0.75</td>\n",
              "      <td>1</td>\n",
              "      <td>0.601</td>\n",
              "      <td>0.459</td>\n",
              "      <td>21.0</td>\n",
              "      <td>13084043.0</td>\n",
              "    </tr>\n",
              "    <tr>\n",
              "      <th>486</th>\n",
              "      <td>2021-06-11</td>\n",
              "      <td>US</td>\n",
              "      <td>PA</td>\n",
              "      <td>NaN</td>\n",
              "      <td>42</td>\n",
              "      <td>NaN</td>\n",
              "      <td>NaN</td>\n",
              "      <td>iso1:us#iso2:us-pa</td>\n",
              "      <td>1212529.0</td>\n",
              "      <td>27510.0</td>\n",
              "      <td>...</td>\n",
              "      <td>0.71</td>\n",
              "      <td>0.1</td>\n",
              "      <td>0.15</td>\n",
              "      <td>NaN</td>\n",
              "      <td>0.73</td>\n",
              "      <td>1</td>\n",
              "      <td>0.603</td>\n",
              "      <td>0.461</td>\n",
              "      <td>17.0</td>\n",
              "      <td>13135306.0</td>\n",
              "    </tr>\n",
              "    <tr>\n",
              "      <th>487</th>\n",
              "      <td>2021-06-12</td>\n",
              "      <td>US</td>\n",
              "      <td>PA</td>\n",
              "      <td>NaN</td>\n",
              "      <td>42</td>\n",
              "      <td>NaN</td>\n",
              "      <td>NaN</td>\n",
              "      <td>iso1:us#iso2:us-pa</td>\n",
              "      <td>1212822.0</td>\n",
              "      <td>27526.0</td>\n",
              "      <td>...</td>\n",
              "      <td>0.71</td>\n",
              "      <td>0.1</td>\n",
              "      <td>0.12</td>\n",
              "      <td>NaN</td>\n",
              "      <td>0.70</td>\n",
              "      <td>1</td>\n",
              "      <td>0.606</td>\n",
              "      <td>0.464</td>\n",
              "      <td>16.0</td>\n",
              "      <td>13212289.0</td>\n",
              "    </tr>\n",
              "    <tr>\n",
              "      <th>488</th>\n",
              "      <td>2021-06-13</td>\n",
              "      <td>US</td>\n",
              "      <td>PA</td>\n",
              "      <td>NaN</td>\n",
              "      <td>42</td>\n",
              "      <td>NaN</td>\n",
              "      <td>NaN</td>\n",
              "      <td>iso1:us#iso2:us-pa</td>\n",
              "      <td>1213003.0</td>\n",
              "      <td>27540.0</td>\n",
              "      <td>...</td>\n",
              "      <td>0.71</td>\n",
              "      <td>0.1</td>\n",
              "      <td>0.11</td>\n",
              "      <td>NaN</td>\n",
              "      <td>0.68</td>\n",
              "      <td>1</td>\n",
              "      <td>0.608</td>\n",
              "      <td>0.467</td>\n",
              "      <td>14.0</td>\n",
              "      <td>13267983.0</td>\n",
              "    </tr>\n",
              "    <tr>\n",
              "      <th>489</th>\n",
              "      <td>2021-06-14</td>\n",
              "      <td>US</td>\n",
              "      <td>PA</td>\n",
              "      <td>NaN</td>\n",
              "      <td>42</td>\n",
              "      <td>NaN</td>\n",
              "      <td>NaN</td>\n",
              "      <td>iso1:us#iso2:us-pa</td>\n",
              "      <td>1213350.0</td>\n",
              "      <td>27543.0</td>\n",
              "      <td>...</td>\n",
              "      <td>0.70</td>\n",
              "      <td>0.1</td>\n",
              "      <td>0.12</td>\n",
              "      <td>NaN</td>\n",
              "      <td>0.73</td>\n",
              "      <td>1</td>\n",
              "      <td>0.609</td>\n",
              "      <td>0.470</td>\n",
              "      <td>3.0</td>\n",
              "      <td>13318101.0</td>\n",
              "    </tr>\n",
              "    <tr>\n",
              "      <th>490</th>\n",
              "      <td>2021-06-15</td>\n",
              "      <td>US</td>\n",
              "      <td>PA</td>\n",
              "      <td>NaN</td>\n",
              "      <td>42</td>\n",
              "      <td>NaN</td>\n",
              "      <td>NaN</td>\n",
              "      <td>iso1:us#iso2:us-pa</td>\n",
              "      <td>1213772.0</td>\n",
              "      <td>27566.0</td>\n",
              "      <td>...</td>\n",
              "      <td>0.70</td>\n",
              "      <td>0.1</td>\n",
              "      <td>0.13</td>\n",
              "      <td>NaN</td>\n",
              "      <td>0.77</td>\n",
              "      <td>1</td>\n",
              "      <td>0.611</td>\n",
              "      <td>0.472</td>\n",
              "      <td>23.0</td>\n",
              "      <td>13365625.0</td>\n",
              "    </tr>\n",
              "    <tr>\n",
              "      <th>491</th>\n",
              "      <td>2021-06-16</td>\n",
              "      <td>US</td>\n",
              "      <td>PA</td>\n",
              "      <td>NaN</td>\n",
              "      <td>42</td>\n",
              "      <td>NaN</td>\n",
              "      <td>NaN</td>\n",
              "      <td>iso1:us#iso2:us-pa</td>\n",
              "      <td>1214051.0</td>\n",
              "      <td>27582.0</td>\n",
              "      <td>...</td>\n",
              "      <td>0.70</td>\n",
              "      <td>0.1</td>\n",
              "      <td>0.10</td>\n",
              "      <td>NaN</td>\n",
              "      <td>0.73</td>\n",
              "      <td>1</td>\n",
              "      <td>0.611</td>\n",
              "      <td>0.472</td>\n",
              "      <td>16.0</td>\n",
              "      <td>13366581.0</td>\n",
              "    </tr>\n",
              "  </tbody>\n",
              "</table>\n",
              "<p>7 rows × 39 columns</p>\n",
              "</div>\n",
              "      <button class=\"colab-df-convert\" onclick=\"convertToInteractive('df-95b44a3d-2423-46fc-8b8a-07b437e2e957')\"\n",
              "              title=\"Convert this dataframe to an interactive table.\"\n",
              "              style=\"display:none;\">\n",
              "        \n",
              "  <svg xmlns=\"http://www.w3.org/2000/svg\" height=\"24px\"viewBox=\"0 0 24 24\"\n",
              "       width=\"24px\">\n",
              "    <path d=\"M0 0h24v24H0V0z\" fill=\"none\"/>\n",
              "    <path d=\"M18.56 5.44l.94 2.06.94-2.06 2.06-.94-2.06-.94-.94-2.06-.94 2.06-2.06.94zm-11 1L8.5 8.5l.94-2.06 2.06-.94-2.06-.94L8.5 2.5l-.94 2.06-2.06.94zm10 10l.94 2.06.94-2.06 2.06-.94-2.06-.94-.94-2.06-.94 2.06-2.06.94z\"/><path d=\"M17.41 7.96l-1.37-1.37c-.4-.4-.92-.59-1.43-.59-.52 0-1.04.2-1.43.59L10.3 9.45l-7.72 7.72c-.78.78-.78 2.05 0 2.83L4 21.41c.39.39.9.59 1.41.59.51 0 1.02-.2 1.41-.59l7.78-7.78 2.81-2.81c.8-.78.8-2.07 0-2.86zM5.41 20L4 18.59l7.72-7.72 1.47 1.35L5.41 20z\"/>\n",
              "  </svg>\n",
              "      </button>\n",
              "      \n",
              "  <style>\n",
              "    .colab-df-container {\n",
              "      display:flex;\n",
              "      flex-wrap:wrap;\n",
              "      gap: 12px;\n",
              "    }\n",
              "\n",
              "    .colab-df-convert {\n",
              "      background-color: #E8F0FE;\n",
              "      border: none;\n",
              "      border-radius: 50%;\n",
              "      cursor: pointer;\n",
              "      display: none;\n",
              "      fill: #1967D2;\n",
              "      height: 32px;\n",
              "      padding: 0 0 0 0;\n",
              "      width: 32px;\n",
              "    }\n",
              "\n",
              "    .colab-df-convert:hover {\n",
              "      background-color: #E2EBFA;\n",
              "      box-shadow: 0px 1px 2px rgba(60, 64, 67, 0.3), 0px 1px 3px 1px rgba(60, 64, 67, 0.15);\n",
              "      fill: #174EA6;\n",
              "    }\n",
              "\n",
              "    [theme=dark] .colab-df-convert {\n",
              "      background-color: #3B4455;\n",
              "      fill: #D2E3FC;\n",
              "    }\n",
              "\n",
              "    [theme=dark] .colab-df-convert:hover {\n",
              "      background-color: #434B5C;\n",
              "      box-shadow: 0px 1px 3px 1px rgba(0, 0, 0, 0.15);\n",
              "      filter: drop-shadow(0px 1px 2px rgba(0, 0, 0, 0.3));\n",
              "      fill: #FFFFFF;\n",
              "    }\n",
              "  </style>\n",
              "\n",
              "      <script>\n",
              "        const buttonEl =\n",
              "          document.querySelector('#df-95b44a3d-2423-46fc-8b8a-07b437e2e957 button.colab-df-convert');\n",
              "        buttonEl.style.display =\n",
              "          google.colab.kernel.accessAllowed ? 'block' : 'none';\n",
              "\n",
              "        async function convertToInteractive(key) {\n",
              "          const element = document.querySelector('#df-95b44a3d-2423-46fc-8b8a-07b437e2e957');\n",
              "          const dataTable =\n",
              "            await google.colab.kernel.invokeFunction('convertToInteractive',\n",
              "                                                     [key], {});\n",
              "          if (!dataTable) return;\n",
              "\n",
              "          const docLinkHtml = 'Like what you see? Visit the ' +\n",
              "            '<a target=\"_blank\" href=https://colab.research.google.com/notebooks/data_table.ipynb>data table notebook</a>'\n",
              "            + ' to learn more about interactive tables.';\n",
              "          element.innerHTML = '';\n",
              "          dataTable['output_type'] = 'display_data';\n",
              "          await google.colab.output.renderOutput(dataTable, element);\n",
              "          const docLink = document.createElement('div');\n",
              "          docLink.innerHTML = docLinkHtml;\n",
              "          element.appendChild(docLink);\n",
              "        }\n",
              "      </script>\n",
              "    </div>\n",
              "  </div>\n",
              "  "
            ]
          },
          "metadata": {},
          "execution_count": 24
        }
      ]
    },
    {
      "cell_type": "code",
      "source": [
        "new_rolling_avg = rolling_dataset['actuals.newCases'].mean()\n",
        "actual_rolling_avg = rolling_dataset['actuals.cases'].mean()\n",
        "cases_100k = (new_rolling_avg/actual_rolling_avg)*100\n",
        "rounded_rolling_avg = round(cases_100k, 2)\n",
        "rounded_rolling_avg"
      ],
      "metadata": {
        "colab": {
          "base_uri": "https://localhost:8080/"
        },
        "id": "iDgicvs6y0KL",
        "outputId": "6ae6c702-7b47-4d45-839e-cae01df30aca"
      },
      "execution_count": 25,
      "outputs": [
        {
          "output_type": "execute_result",
          "data": {
            "text/plain": [
              "0.03"
            ]
          },
          "metadata": {},
          "execution_count": 25
        }
      ]
    },
    {
      "cell_type": "code",
      "source": [
        "display = f\"\"\"##############################################################\n",
        "\n",
        "{state}, {'2021-06-16'}\n",
        "\n",
        "Infection\n",
        "        - New cases: {newCases}\n",
        "        - New deaths: {newDeaths}\n",
        "        - Cummulative cases: {cumulative_confirmed_cases}\n",
        "        - Cummulative deaths: {cummulative_deaths_that_are_suspected}\n",
        "        - Cases per 100k (using a 7-day rolling average): {cases_100k}\n",
        "\n",
        "Vaccination\n",
        "        - Completed: {vaccinationsCompletedRatio} ({vaccinationCompleted})\n",
        "        - Initiated: {vaccinationsInitiatedRatio} ({vaccinationInitiated})\n",
        "        \n",
        " \n",
        "\n",
        "##############################################################\"\"\"\n",
        "print (display)"
      ],
      "metadata": {
        "colab": {
          "base_uri": "https://localhost:8080/"
        },
        "id": "Fly_2yJH0e3m",
        "outputId": "1f115c79-0398-40b9-add2-69a59c99994f"
      },
      "execution_count": 95,
      "outputs": [
        {
          "output_type": "stream",
          "name": "stdout",
          "text": [
            "##############################################################\n",
            "\n",
            "PA, 2021-06-16\n",
            "\n",
            "Infection\n",
            "        - New cases: 279.0\n",
            "        - New deaths: 16.0\n",
            "        - Cummulative cases: 1214330.0\n",
            "        - Cummulative deaths: 27598.0\n",
            "        - Cases per 100k (using a 7-day rolling average): 0.0301942536237226\n",
            "\n",
            "Vaccination\n",
            "        - Completed: 0.472 (6045055.0)\n",
            "        - Initiated: 0.611 (7818311.0)\n",
            "        \n",
            " \n",
            "\n",
            "##############################################################\n"
          ]
        }
      ]
    },
    {
      "cell_type": "code",
      "source": [
        ""
      ],
      "metadata": {
        "id": "SN3E_3Hhv3vM"
      },
      "execution_count": 52,
      "outputs": []
    },
    {
      "cell_type": "code",
      "source": [
        "#scatter plot\n",
        "df2.plot(kind='line',x='actuals.cases',y='metrics.vaccinationsCompletedRatio')\n",
        "plt.show()"
      ],
      "metadata": {
        "colab": {
          "base_uri": "https://localhost:8080/",
          "height": 279
        },
        "id": "DvTczKHvwL1W",
        "outputId": "be7d9623-5712-4cba-d24e-898c1ddbfdd7"
      },
      "execution_count": 54,
      "outputs": [
        {
          "output_type": "display_data",
          "data": {
            "text/plain": [
              "<Figure size 432x288 with 1 Axes>"
            ],
            "image/png": "[encoded data removed]"
          },
          "metadata": {
            "needs_background": "light"
          }
        }
      ]
    },
    {
      "cell_type": "code",
      "source": [
        "!pip install us"
      ],
      "metadata": {
        "colab": {
          "base_uri": "https://localhost:8080/"
        },
        "id": "--xhoUTlw2pA",
        "outputId": "c3a10a01-4947-494c-d5ef-59dda9990357"
      },
      "execution_count": 28,
      "outputs": [
        {
          "output_type": "stream",
          "name": "stdout",
          "text": [
            "Collecting us\n",
            "  Downloading us-2.0.2.tar.gz (14 kB)\n",
            "Collecting jellyfish==0.6.1\n",
            "  Downloading jellyfish-0.6.1.tar.gz (132 kB)\n",
            "\u001b[K     |████████████████████████████████| 132 kB 6.9 MB/s \n",
            "\u001b[?25hBuilding wheels for collected packages: us, jellyfish\n",
            "  Building wheel for us (setup.py) ... \u001b[?25l\u001b[?25hdone\n",
            "  Created wheel for us: filename=us-2.0.2-py3-none-any.whl size=11945 sha256=ad0d7450636398cd9ac32d376836c574ba18bbb07bd0eb9c4e068a696b599135\n",
            "  Stored in directory: /root/.cache/pip/wheels/ca/6b/11/cda9ea2438f721330a35c9a2c8e34b4aedcd34c89af48a4d00\n",
            "  Building wheel for jellyfish (setup.py) ... \u001b[?25l\u001b[?25hdone\n",
            "  Created wheel for jellyfish: filename=jellyfish-0.6.1-cp37-cp37m-linux_x86_64.whl size=72190 sha256=5cc3bee2b648b80d7c3c77f727f9107eaaeab1a68591b1b7ecc425dd6252c9ee\n",
            "  Stored in directory: /root/.cache/pip/wheels/a1/99/51/7de469e37cd1b3c763c24394e1ebf1baa2d79e094bf346cf80\n",
            "Successfully built us jellyfish\n",
            "Installing collected packages: jellyfish, us\n",
            "Successfully installed jellyfish-0.6.1 us-2.0.2\n"
          ]
        }
      ]
    },
    {
      "cell_type": "code",
      "source": [
        "# from datetime import datetime\n",
        "\n",
        "# date_string = 2021-03-16\n",
        "# print (datetime.date(date_string))\n",
        "\n",
        "\n",
        "import datetime as dt\n",
        "\n",
        "d = dt.datetime.strptime(\"2021-03-16\", \"%Y-%m-%d\")\n",
        "\n",
        "# Convert datetime object to date object.\n",
        "d = d.strftime('%y-%m-%d')\n",
        "# print(d.fromisocalendar)\n",
        "# print(d.isoformat())\n",
        "d"
      ],
      "metadata": {
        "colab": {
          "base_uri": "https://localhost:8080/",
          "height": 35
        },
        "id": "EF7oMGXaQ9U7",
        "outputId": "9667462b-1331-4526-babd-2921084abc75"
      },
      "execution_count": 102,
      "outputs": [
        {
          "output_type": "execute_result",
          "data": {
            "text/plain": [
              "'21-03-16'"
            ],
            "application/vnd.google.colaboratory.intrinsic+json": {
              "type": "string"
            }
          },
          "metadata": {},
          "execution_count": 102
        }
      ]
    },
    {
      "cell_type": "code",
      "source": [
        ""
      ],
      "metadata": {
        "id": "-8xDdgayRO4x"
      },
      "execution_count": null,
      "outputs": []
    }
  ]
}