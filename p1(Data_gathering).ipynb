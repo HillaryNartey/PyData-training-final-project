{
  "nbformat": 4,
  "nbformat_minor": 0,
  "metadata": {
    "colab": {
      "name": "p1(Data gathering).ipynb",
      "provenance": [],
      "include_colab_link": true
    },
    "kernelspec": {
      "name": "python3",
      "display_name": "Python 3"
    },
    "language_info": {
      "name": "python"
    }
  },
  "cells": [
    {
      "cell_type": "markdown",
      "metadata": {
        "id": "view-in-github",
        "colab_type": "text"
      },
      "source": [
        "<a href=\"https://colab.research.google.com/github/HillaryNartey/PyData-training-final-project/blob/main/p1(Data_gathering).ipynb\" target=\"_parent\"><img src=\"https://colab.research.google.com/assets/colab-badge.svg\" alt=\"Open In Colab\"/></a>"
      ]
    },
    {
      "cell_type": "code",
      "execution_count": null,
      "metadata": {
        "colab": {
          "base_uri": "https://localhost:8080/"
        },
        "id": "14Nepu0aM1GU",
        "outputId": "472279e7-dcbe-40a4-f3e5-e20094af53a4"
      },
      "outputs": [
        {
          "output_type": "stream",
          "name": "stdout",
          "text": [
            "Requirement already satisfied: selenium in /usr/local/lib/python3.7/dist-packages (4.1.3)\n",
            "Requirement already satisfied: trio~=0.17 in /usr/local/lib/python3.7/dist-packages (from selenium) (0.20.0)\n",
            "Requirement already satisfied: trio-websocket~=0.9 in /usr/local/lib/python3.7/dist-packages (from selenium) (0.9.2)\n",
            "Requirement already satisfied: urllib3[secure,socks]~=1.26 in /usr/local/lib/python3.7/dist-packages (from selenium) (1.26.9)\n",
            "Requirement already satisfied: sniffio in /usr/local/lib/python3.7/dist-packages (from trio~=0.17->selenium) (1.2.0)\n",
            "Requirement already satisfied: sortedcontainers in /usr/local/lib/python3.7/dist-packages (from trio~=0.17->selenium) (2.4.0)\n",
            "Requirement already satisfied: attrs>=19.2.0 in /usr/local/lib/python3.7/dist-packages (from trio~=0.17->selenium) (21.4.0)\n",
            "Requirement already satisfied: async-generator>=1.9 in /usr/local/lib/python3.7/dist-packages (from trio~=0.17->selenium) (1.10)\n",
            "Requirement already satisfied: outcome in /usr/local/lib/python3.7/dist-packages (from trio~=0.17->selenium) (1.1.0)\n",
            "Requirement already satisfied: idna in /usr/local/lib/python3.7/dist-packages (from trio~=0.17->selenium) (2.10)\n",
            "Requirement already satisfied: wsproto>=0.14 in /usr/local/lib/python3.7/dist-packages (from trio-websocket~=0.9->selenium) (1.1.0)\n",
            "Requirement already satisfied: cryptography>=1.3.4 in /usr/local/lib/python3.7/dist-packages (from urllib3[secure,socks]~=1.26->selenium) (36.0.2)\n",
            "Requirement already satisfied: pyOpenSSL>=0.14 in /usr/local/lib/python3.7/dist-packages (from urllib3[secure,socks]~=1.26->selenium) (22.0.0)\n",
            "Requirement already satisfied: certifi in /usr/local/lib/python3.7/dist-packages (from urllib3[secure,socks]~=1.26->selenium) (2021.10.8)\n",
            "Requirement already satisfied: PySocks!=1.5.7,<2.0,>=1.5.6 in /usr/local/lib/python3.7/dist-packages (from urllib3[secure,socks]~=1.26->selenium) (1.7.1)\n",
            "Requirement already satisfied: cffi>=1.12 in /usr/local/lib/python3.7/dist-packages (from cryptography>=1.3.4->urllib3[secure,socks]~=1.26->selenium) (1.15.0)\n",
            "Requirement already satisfied: pycparser in /usr/local/lib/python3.7/dist-packages (from cffi>=1.12->cryptography>=1.3.4->urllib3[secure,socks]~=1.26->selenium) (2.21)\n",
            "Requirement already satisfied: h11<1,>=0.9.0 in /usr/local/lib/python3.7/dist-packages (from wsproto>=0.14->trio-websocket~=0.9->selenium) (0.13.0)\n",
            "Requirement already satisfied: typing-extensions in /usr/local/lib/python3.7/dist-packages (from h11<1,>=0.9.0->wsproto>=0.14->trio-websocket~=0.9->selenium) (3.10.0.2)\n",
            "Hit:1 http://archive.ubuntu.com/ubuntu bionic InRelease\n",
            "Get:2 http://archive.ubuntu.com/ubuntu bionic-updates InRelease [88.7 kB]\n",
            "Get:3 https://cloud.r-project.org/bin/linux/ubuntu bionic-cran40/ InRelease [3,626 B]\n",
            "Ign:4 https://developer.download.nvidia.com/compute/cuda/repos/ubuntu1804/x86_64  InRelease\n",
            "Hit:5 http://ppa.launchpad.net/c2d4u.team/c2d4u4.0+/ubuntu bionic InRelease\n",
            "Get:6 http://archive.ubuntu.com/ubuntu bionic-backports InRelease [74.6 kB]\n",
            "Ign:7 https://developer.download.nvidia.com/compute/machine-learning/repos/ubuntu1804/x86_64  InRelease\n",
            "Get:8 http://security.ubuntu.com/ubuntu bionic-security InRelease [88.7 kB]\n",
            "Hit:9 https://developer.download.nvidia.com/compute/cuda/repos/ubuntu1804/x86_64  Release\n",
            "Hit:10 https://developer.download.nvidia.com/compute/machine-learning/repos/ubuntu1804/x86_64  Release\n",
            "Hit:11 http://ppa.launchpad.net/cran/libgit2/ubuntu bionic InRelease\n",
            "Hit:12 http://ppa.launchpad.net/deadsnakes/ppa/ubuntu bionic InRelease\n",
            "Hit:13 http://ppa.launchpad.net/graphics-drivers/ppa/ubuntu bionic InRelease\n",
            "Fetched 256 kB in 5s (55.6 kB/s)\n",
            "Reading package lists... Done\n",
            "Reading package lists... Done\n",
            "Building dependency tree       \n",
            "Reading state information... Done\n",
            "chromium-chromedriver is already the newest version (99.0.4844.84-0ubuntu0.18.04.1).\n",
            "0 upgraded, 0 newly installed, 0 to remove and 82 not upgraded.\n",
            "cp: '/usr/lib/chromium-browser/chromedriver' and '/usr/bin/chromedriver' are the same file\n",
            "Requirement already satisfied: tabulate in /usr/local/lib/python3.7/dist-packages (0.8.9)\n"
          ]
        }
      ],
      "source": [
        "!pip install selenium\n",
        "!apt-get update # to update ubuntu to correctly run apt install\n",
        "!apt install chromium-chromedriver\n",
        "!cp /usr/lib/chromium-browser/chromedriver /usr/bin\n",
        "!pip install tabulate"
      ]
    },
    {
      "cell_type": "code",
      "source": [
        "import sys\n",
        "sys.path.insert(0,'/usr/lib/chromium-browser/chromedriver')\n",
        "from bs4 import BeautifulSoup\n",
        "from selenium import webdriver\n",
        "from tabulate import tabulate"
      ],
      "metadata": {
        "id": "TrXr0SiYN2r6"
      },
      "execution_count": null,
      "outputs": []
    },
    {
      "cell_type": "code",
      "source": [
        "option = webdriver.ChromeOptions()\n",
        "option.add_argument('--headless')\n",
        "option.add_argument('--no-sandbox')\n",
        "option.add_argument('--disable-dev-sh-usage')"
      ],
      "metadata": {
        "id": "14o1ciXxN9dc"
      },
      "execution_count": null,
      "outputs": []
    },
    {
      "cell_type": "code",
      "source": [
        "# set driver and url\n",
        "driver = webdriver.Chrome('chromedriver',options=option)\n",
        "\n",
        "dmc_url = 'https://www.yarnplaza.com/product/4216/dmc-natura-xl.html'\n",
        "\n",
        "stylecraft_url = 'https://www.yarnplaza.com/yarn/stylecraft/stylecraft-special-dk'\n",
        "\n",
        "drops_url = 'https://www.yarnplaza.com/yarn/drops/drops-safran'\n",
        "\n",
        "# convert a list to string\n",
        "def listToString(s):    \n",
        "    str1 = \"\"  \n",
        "    for ele in s: \n",
        "        str1 += ele \n",
        "    return str1 "
      ],
      "metadata": {
        "id": "X99LTwNcjnTB"
      },
      "execution_count": null,
      "outputs": []
    },
    {
      "cell_type": "code",
      "source": [
        "# DATA FOR DMC NATURAL XL\n",
        "\n",
        "# get page\n",
        "driver.get(dmc_url)\n",
        "\n",
        "composition = listToString([item.text for item in driver.find_elements_by_xpath('//*[@id=\"pdetailTableSpecs\"]/table/tbody/tr[4]/td[2]')])\n",
        "needle_size = listToString([item.text for item in driver.find_elements_by_xpath('//*[@id=\"pdetailTableSpecs\"]/table/tbody/tr[5]/td[2]')])\n",
        "price = listToString([item.text for item in driver.find_elements_by_xpath('//*[@id=\"ContentPlaceHolder1_upPricePanel\"]/span/span[2]')])\n",
        "\n",
        "# p = float(price.replace(',','.'))\n",
        "# p\n",
        "# # round(int(price.replace(',','.')))\n",
        "\n",
        "dmc_data = ['DMC','NATURAL X',composition,needle_size,round(float(price.replace(',','.')))]\n"
      ],
      "metadata": {
        "colab": {
          "base_uri": "https://localhost:8080/"
        },
        "id": "vlnNwjrigJyI",
        "outputId": "4af0d9f0-f863-45e9-ca09-19df32c49fa7"
      },
      "execution_count": null,
      "outputs": [
        {
          "output_type": "stream",
          "name": "stderr",
          "text": [
            "/usr/local/lib/python3.7/dist-packages/ipykernel_launcher.py:6: DeprecationWarning: find_elements_by_xpath is deprecated. Please use find_elements(by=By.XPATH, value=xpath) instead\n",
            "  \n",
            "/usr/local/lib/python3.7/dist-packages/ipykernel_launcher.py:7: DeprecationWarning: find_elements_by_xpath is deprecated. Please use find_elements(by=By.XPATH, value=xpath) instead\n",
            "  import sys\n",
            "/usr/local/lib/python3.7/dist-packages/ipykernel_launcher.py:8: DeprecationWarning: find_elements_by_xpath is deprecated. Please use find_elements(by=By.XPATH, value=xpath) instead\n",
            "  \n"
          ]
        }
      ]
    },
    {
      "cell_type": "code",
      "source": [
        "# DATA FOR Drops Safran\n",
        "\n",
        "# get page\n",
        "driver.get(drops_url)\n",
        "\n",
        "composition = listToString([item.text for item in driver.find_elements_by_xpath('//*[@id=\"pdetailTableSpecs\"]/table/tbody/tr[4]/td[2]')])\n",
        "needle_size = listToString([item.text for item in driver.find_elements_by_xpath('//*[@id=\"pdetailTableSpecs\"]/table/tbody/tr[5]/td[2]')])\n",
        "price = listToString([item.text for item in driver.find_elements_by_xpath('//*[@id=\"ContentPlaceHolder1_upPricePanel\"]/span/span[2]')])\n",
        "\n",
        "drops_data = ['Drops','Safran',composition,needle_size,round(float(price.replace(',','.')))]\n"
      ],
      "metadata": {
        "id": "-6qwCwqUfmi4",
        "colab": {
          "base_uri": "https://localhost:8080/"
        },
        "outputId": "cebd942f-5b67-4c87-84d0-4df5898ae29a"
      },
      "execution_count": null,
      "outputs": [
        {
          "output_type": "stream",
          "name": "stderr",
          "text": [
            "/usr/local/lib/python3.7/dist-packages/ipykernel_launcher.py:6: DeprecationWarning: find_elements_by_xpath is deprecated. Please use find_elements(by=By.XPATH, value=xpath) instead\n",
            "  \n",
            "/usr/local/lib/python3.7/dist-packages/ipykernel_launcher.py:7: DeprecationWarning: find_elements_by_xpath is deprecated. Please use find_elements(by=By.XPATH, value=xpath) instead\n",
            "  import sys\n",
            "/usr/local/lib/python3.7/dist-packages/ipykernel_launcher.py:8: DeprecationWarning: find_elements_by_xpath is deprecated. Please use find_elements(by=By.XPATH, value=xpath) instead\n",
            "  \n"
          ]
        }
      ]
    },
    {
      "cell_type": "code",
      "source": [
        "# DATA FOR Stylecraft Special dk\n",
        "\n",
        "# get page\n",
        "driver.get(stylecraft_url)\n",
        "\n",
        "composition = listToString([item.text for item in driver.find_elements_by_xpath('//*[@id=\"pdetailTableSpecs\"]/table/tbody/tr[3]/td[2]')])\n",
        "needle_size = listToString([item.text for item in driver.find_elements_by_xpath('//*[@id=\"pdetailTableSpecs\"]/table/tbody/tr[4]/td[2]')])\n",
        "price = listToString([item.text for item in driver.find_elements_by_xpath('//*[@id=\"ContentPlaceHolder1_upPricePanel\"]/span/span[2]')])\n",
        "\n",
        "stylecraft_data = ['Stylecraft','Special dk',composition,needle_size,round(float(price.replace(',','.')))]\n"
      ],
      "metadata": {
        "colab": {
          "base_uri": "https://localhost:8080/"
        },
        "id": "3UnqjJwZsPBX",
        "outputId": "3a61ad3e-c406-4ee2-c906-b22ad40c6ae4"
      },
      "execution_count": null,
      "outputs": [
        {
          "output_type": "stream",
          "name": "stderr",
          "text": [
            "/usr/local/lib/python3.7/dist-packages/ipykernel_launcher.py:6: DeprecationWarning: find_elements_by_xpath is deprecated. Please use find_elements(by=By.XPATH, value=xpath) instead\n",
            "  \n",
            "/usr/local/lib/python3.7/dist-packages/ipykernel_launcher.py:7: DeprecationWarning: find_elements_by_xpath is deprecated. Please use find_elements(by=By.XPATH, value=xpath) instead\n",
            "  import sys\n",
            "/usr/local/lib/python3.7/dist-packages/ipykernel_launcher.py:8: DeprecationWarning: find_elements_by_xpath is deprecated. Please use find_elements(by=By.XPATH, value=xpath) instead\n",
            "  \n"
          ]
        }
      ]
    },
    {
      "cell_type": "code",
      "source": [
        "table = [['Brand', 'Name', 'Composition', 'Needle_size', 'Price'],dmc_data, drops_data, stylecraft_data]\n",
        "print(tabulate(table, headers='firstrow', tablefmt='grid'))"
      ],
      "metadata": {
        "colab": {
          "base_uri": "https://localhost:8080/"
        },
        "id": "A8h9JL7fLfI3",
        "outputId": "e0441058-fb79-471b-836f-02b5e138e316"
      },
      "execution_count": null,
      "outputs": [
        {
          "output_type": "stream",
          "name": "stdout",
          "text": [
            "+------------+------------+---------------+---------------+---------+\n",
            "| Brand      | Name       | Composition   | Needle_size   |   Price |\n",
            "+============+============+===============+===============+=========+\n",
            "| DMC        | NATURAL X  | 100% Cotton   | 8 mm          |       9 |\n",
            "+------------+------------+---------------+---------------+---------+\n",
            "| Drops      | Safran     | 100% Cotton   | 3 mm          |       1 |\n",
            "+------------+------------+---------------+---------------+---------+\n",
            "| Stylecraft | Special dk | 100% Acrylic  | 4 mm          |       3 |\n",
            "+------------+------------+---------------+---------------+---------+\n"
          ]
        }
      ]
    },
    {
      "cell_type": "code",
      "source": [
        ""
      ],
      "metadata": {
        "id": "DxP-1vb7ucZ3"
      },
      "execution_count": null,
      "outputs": []
    }
  ]
}